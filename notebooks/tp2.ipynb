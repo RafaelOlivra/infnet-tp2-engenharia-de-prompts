{
 "cells": [
  {
   "cell_type": "markdown",
   "metadata": {},
   "source": [
    "> ## TP2 - Engenharia de Prompts para Ciência de Dados [24E4_4]\n",
    ">\n",
    "> **Rafael Soares de Oliveira**\n",
    ">\n",
    "> Infnet - Ciência de Dados | Novembro 2024\n",
    ">\n",
    "> https://lms.infnet.edu.br/moodle/mod/assign/view.php?id=432144\n"
   ]
  },
  {
   "cell_type": "markdown",
   "metadata": {},
   "source": [
    "### Exercício 1: Princípios de Criação de Prompts Eficazes\n",
    "\n",
    "Alguns princípios são essenciais para a construção de prompts claros e obtenção de respostas precisas. Identifique e explique quais princípios foram utilizados no prompt abaixo:\n",
    "\n",
    "\n",
    "**Prompt**\n",
    "\n",
    "Como um especialista em turismo, liste 3 atrações turísticas imperdíveis de Paris e forneça uma breve descrição para cada uma delas. Aqui está um exemplo do formato esperado:\n",
    "\n",
    "\n",
    "Atração 1: Torre Eiffel\n",
    "\n",
    "Descrição: Um dos monumentos mais icônicos do mundo, conhecido por sua estrutura de ferro e vista panorâmica da cidade.\n"
   ]
  },
  {
   "cell_type": "markdown",
   "metadata": {},
   "source": [
    "> 📝 Com base no \"The Five S Model\", o prompt acima contém os seguintes príncipios:\n",
    "> \n",
    "> **Direcione:** O tom e o contexto da resposta for escrito de forma clara, especificando o papel do LLM \"como um especialista em turismo\" indicando que a resposta deve ser orientada como se fosse dada por um especialista no assunto.\n",
    "> \n",
    "> **Formate:** O prompt fornece um pedido para listar \"3 atrações turísticas imperdíveis\" com \"uma breve descrição\" definindo o formato do conteúdo e a quantidade de detalhes necessárias na resposta, inclusive, dando um exemplo de como o output deve ser formatado.\n",
    "> \n",
    "> **Exemplifique:** O prompt dá um exemplo baseado na \"Torre Eiffel\" como atração e sua descrição oferece um exemplo específico do que se espera. Isso ajuda a esclarecer a estrutura e também dá uma noção do tipo de linguagem e nível de detalhamento esperados."
   ]
  },
  {
   "cell_type": "markdown",
   "metadata": {},
   "source": [
    "### Exercício 2: Simulação de Atendimento ao Cliente com Diferentes Personas\n",
    "\n",
    "Vamos simular uma situação de telemarketing onde persona e tom são críticos para o sucesso da interação. Para criarmos uma base de treinamento dos operadores, simule duas respostas para o mesmo atendimento, ora com um cliente agressivo, ora com um cliente tranquilo. Crie e teste um prompt (Poe.com) para cada situação a partir do atendimento:\n",
    "\n",
    "“Bom dia, me chamo João e lhe trago hoje uma promoção imperdível sobre a sua assinatura de internet móvel. Por mais 20 reais, consigo lhe oferecer 10GB a mais na sua franquia. Quando podemos estar agendando a sua migração?”\n",
    "\n",
    "Descreva o comportamento do cliente nas duas situações? As respostas saíram como o esperado?"
   ]
  },
  {
   "cell_type": "markdown",
   "metadata": {},
   "source": [
    "**Prompt #1 (Agressivo):**\n",
    "\n",
    "> Eu sou um atendente de telemarketing que te ligou te oferendo uma promoção de internet móvel.\n",
    "> Esse é um exemplo do que eu falaria assim que você atendesse a chamada:\n",
    "> \n",
    "> “Bom dia, me chamo João e lhe trago hoje uma promoção imperdível sobre a sua assinatura de internet móvel. Por mais 20 reais, consigo lhe oferecer 10GB a mais na sua franquia. Quando podemos estar agendando a sua migração?”\n",
    "> \n",
    "> Você deve responder esse questão agindo como um cliente agressivo que não tem interesse no plano.\n",
    "> Sua resposta deve objetiva e conter pelo menos 2 parágrafos."
   ]
  },
  {
   "cell_type": "markdown",
   "metadata": {},
   "source": [
    "![Exec 2a](./images/exec-2-a.png)"
   ]
  },
  {
   "cell_type": "markdown",
   "metadata": {},
   "source": [
    "**Prompt #2 (Tranquilo):**\n",
    "\n",
    "> Eu sou um atendente de telemarketing que te ligou te oferendo uma promoção de internet móvel.\n",
    "> Esse é um exemplo do que eu falaria assim que você atendesse a chamada:\n",
    "> \n",
    "> “Bom dia, me chamo João e lhe trago hoje uma promoção imperdível sobre a sua assinatura de internet móvel. Por mais 20 reais, consigo lhe oferecer 10GB a mais na sua franquia. Quando podemos estar agendando a sua migração?”\n",
    "> \n",
    "> Você deve responder esse questão agindo como um cliente que não tem interesse no plano, mas que age de forma tranquila e amigável.\n",
    "> Sua resposta deve objetiva e conter pelo menos 2 parágrafos."
   ]
  },
  {
   "cell_type": "markdown",
   "metadata": {},
   "source": [
    "![Exec 2b](./images/exec-2-b.png)"
   ]
  },
  {
   "cell_type": "markdown",
   "metadata": {},
   "source": [
    "> 📝 Acredito que o modelo Llama desempenhou bem o seu papel nas duas situações, agindo conforme esperado. Inclusive, é possível até sentir um certo desconforto com a resposta agressiva. Na minha opinião, a resposta foi um pouco longa, então acredito que alteraria o prompt para pedir a resposta em apenas um parágrafo em usos futuros."
   ]
  },
  {
   "cell_type": "markdown",
   "metadata": {},
   "source": [
    "### Exercício 3: Automação de Mensagens Promocionais com Princípios de Prompting\n",
    "\n",
    "A empresa de turismo viagens.com deseja automatizar o processo de criação de envio de mensagens para clientes, informando-lhes sobre promoções recentes. Escreva um prompt que contenha os três princípios de 1) persona, 2) dados e 3) tom para gerar a mensagem automática. Execute o prompt usando a sua conta Poe.com e justifique se o LLM respondeu como esperado."
   ]
  },
  {
   "cell_type": "markdown",
   "metadata": {},
   "source": [
    "**Prompt:**"
   ]
  },
  {
   "cell_type": "markdown",
   "metadata": {},
   "source": [
    "> Você é um assistente de viagens e seu trabalho é oferecer pacotes promocionais de viagens para seus clientes.\n",
    "> Você sempre responde de forma amigável e positiva.\n",
    "> Seu papel é redigir um email com cerca de 100 palavras, oferecendo um dos seguintes pacotes de viagem:\n",
    "> \n",
    "> Pacote 1: Viagem a Búzios  \\\n",
    "> Tempo: 10 Dias  \\\n",
    "> Hotel: Incluso  \\\n",
    "> Refeições: Inclusas\n",
    ">\n",
    "> Pacote 2: Curitiba \\\n",
    "> Tempo: 3 Dias  \\\n",
    "> Hotel: Incluso  \\\n",
    "> Refeições: Não inclusas\n",
    "> \n",
    "> \n",
    "> O nome do cliente é Rafael."
   ]
  },
  {
   "cell_type": "markdown",
   "metadata": {},
   "source": [
    "![Exec 3](./images/exec-3.png)"
   ]
  },
  {
   "cell_type": "markdown",
   "metadata": {},
   "source": [
    "> 📝 Achei que a resposta foi dentro do que eu esperava. O LLM respondeu de forma amigável e desempenhou muito bem o seu papel."
   ]
  },
  {
   "cell_type": "markdown",
   "metadata": {},
   "source": [
    "### Exercício 4: Desenvolvimento de Prompts para Recomendação de Produtos\n",
    "\n",
    "Você está desenvolvendo um sistema de recomendações de produtos para um e-commerce. Crie dois prompts com base nos princípios de prompting, sendo o primeiro um prompt simples e o segundo um prompt com exemplos (few-shot prompting). Utilize o Poe.com para testar os prompts com um LLM, comparando os resultados gerados. Qual dos prompts foi mais eficaz e por quê?"
   ]
  },
  {
   "cell_type": "markdown",
   "metadata": {},
   "source": [
    "**Prompt #1:**\n",
    "\n",
    "Você é um assistente de um ecommerce especializado em óculos de sol que sempre responde de forma animada e feliz.\n",
    "Você deve recomendar 3 produtos para um cliente interessado.\n",
    "Sua resposta deve ter no máximo 80 palavras."
   ]
  },
  {
   "cell_type": "markdown",
   "metadata": {},
   "source": [
    "![Exec 4a](./images/exec-4-a.png)"
   ]
  },
  {
   "cell_type": "markdown",
   "metadata": {},
   "source": [
    "**Prompt #2:**\n",
    "\n",
    "> Você é um assistente de um ecommerce especializado em óculos de sol que sempre responde de forma animada e feliz.\n",
    "> Você deve recomendar 3 produtos para um cliente interessado.\n",
    "> Sua resposta deve seguir o formato dos exemplos abaixo:\n",
    "> \n",
    "> Olá! Segue uma lista de óculos que combinam com você:\n",
    "> \n",
    "> Ray-ban Aviador: Um modelo atemporal que marcou época e está sempre na moda!\n",
    "> Ray-ban Wayfarer: Dinâmico e moderno, este modelo não sai de moda nunca!\n",
    "> Oakley Holbrook: Um modelo esportivo que combina perfeito para o amante do surf.\n",
    "> \n",
    "> --\n",
    "> \n",
    "> Olá! Confira os modelos que fazem sucesso em 2024:\n",
    "> \n",
    "> Ray-ban Clubmaster: Um ícone vintage que continua fazendo sucesso!\n",
    "> Ray-ban Hexagonal: A nova tendência da Ray-ban, disponível em várias cores e acabamentos.\n",
    "> Oakley Iridium: Moderno e ousado, um modelo para quem sabe o que quer.\n"
   ]
  },
  {
   "cell_type": "markdown",
   "metadata": {},
   "source": [
    "![Exec 4b](./images/exec-4-b.png)"
   ]
  },
  {
   "cell_type": "markdown",
   "metadata": {},
   "source": [
    "> 📝 Com certeza, o segundo prompt foi bem mais eficaz. Ele trouxe uma resposta em um formato padronizado, dentro do esperado, o que facilitaria muito caso fosse incorporado em uma aplicação, por exemplo."
   ]
  },
  {
   "cell_type": "markdown",
   "metadata": {},
   "source": [
    "### Exercício 5: Listagem de Componentes de Computadores de Alto Desempenho\n",
    "\n",
    "Utilize o Poe.com para criar um prompt simples que faça o LLM listar os principais componentes de um computador de alto desempenho, suas capacidades computacionais (HD, RAM, CPU, GPU…), marcas, modelos e preços. Teste o prompt e explique se o resultado atendeu às expectativas: as marcas e modelos existem? As capacidades do computador são de alto desempenho? Compare com fontes encontradas na internet."
   ]
  },
  {
   "cell_type": "markdown",
   "metadata": {},
   "source": [
    "**Prompt:**\n",
    "\n",
    "Você é um assistente especializado em montar computadores de alto desempenho para jogos atuais. Sua tarefa é criar uma lista detalhada de peças para três configurações diferentes de PC gamer: básica, intermediária e avançada.  \n",
    "Para cada configuração, inclua o nome da peça e o preço estimado em R$. Organize a resposta conforme o exemplo abaixo:\n",
    "\n",
    "- - -\n",
    "**Configuração Básica**  \n",
    "Processador: AMD Ryzen 5 4600G – (R$ 580)  \n",
    "Cooler: Cooler box – R$ 0  \n",
    "Placa-mãe: A partir da B450 – (R$ 500)  \n",
    "Memória RAM: 2x 8GB DDR4 @3200MTs – (R$320)  \n",
    "Armazenamento: SSD NVMe 1TB Kingston NV2 – (R$ 380)  \n",
    "Fonte: 600W – (R$ 270)\n",
    "\n",
    "**Configuração Intermediária**  \n",
    "Siga o mesmo formato.  \n",
    "\n",
    "**Configuração Básica**  \n",
    "Siga o mesmo formato.\n",
    "- - -\n",
    "\n",
    "Observe os seguintes pontos:\n",
    "\n",
    "Selecione componentes com bom custo-benefício e com desempenho adequado ao nível de cada configuração.  \n",
    "Mantenha os preços estimados em R$, com valores realistas.  \n",
    "Você deve retornar apenas as configurações seguindo o formato e a estrutura do exemplo."
   ]
  },
  {
   "cell_type": "markdown",
   "metadata": {},
   "source": [
    "![Exec 5](./images/exec-5.png)"
   ]
  },
  {
   "cell_type": "markdown",
   "metadata": {},
   "source": [
    "**Exemplos reais da internet:**\n",
    "\n",
    "![Exec 5 - Exemplo 1](./images/exec-5-exemplo-1.png)\n",
    "![Exec 5 - Exemplo 2](./images/exec-5-exemplo-2.png)\n",
    "![Exec 5 - Exemplo 2](./images/exec-5-exemplo-2.png)"
   ]
  },
  {
   "cell_type": "markdown",
   "metadata": {},
   "source": [
    "> 📝 Com base na pesquisa rápida que fiz, acredito que a resposta do modelo está de acordo com o esperado. O modelo não incluiu nenhuma opção baseada em processadores Intel, mas parece que esses não são tão populares quanto os processadores da AMD atualmente."
   ]
  },
  {
   "cell_type": "markdown",
   "metadata": {},
   "source": [
    "### Exercício 6: Análise dos Benefícios da Inteligência Artificial para Pequenas Empresas\n",
    "\n",
    "Desenvolva um prompt simples para que o LLM forneça uma análise rápida sobre os benefícios de usar inteligência artificial em pequenas empresas. Qual foi o resultado gerado pelo LLM? Aplique os princípios de prompt para obter resultados mais precisos. Teste os prompts na sua conta do Poe.com e copie os prompts e respectivas saídas, junto com a explicação do que foi feito entre um prompt e outro."
   ]
  },
  {
   "cell_type": "markdown",
   "metadata": {},
   "source": [
    "**Prompt 1**:\n",
    "\n",
    "Quais os benefícios de usar inteligência artificial em pequenas empresas?"
   ]
  },
  {
   "cell_type": "markdown",
   "metadata": {},
   "source": [
    "![Exec 6 - Exemplo 1](./images/exec-6-a.png)"
   ]
  },
  {
   "cell_type": "markdown",
   "metadata": {},
   "source": [
    "> 📝 Neste caso, foi utilizado um prompt bem simples, sem definir formatos, papéis ou expectativas para o output. O resultado gerado pela IA foi relevante, mas acabou sendo um pouco mais longo do que eu esperava."
   ]
  },
  {
   "cell_type": "markdown",
   "metadata": {},
   "source": [
    "**Prompt 2**:\n",
    "\n",
    "Quais os benefícios de usar inteligência artificial em pequenas empresas?\n",
    "Responda de forma resumida e fácil de entender, com no máximo 3 items ou 100 palavras."
   ]
  },
  {
   "cell_type": "markdown",
   "metadata": {},
   "source": [
    "![Exec 6 - Exemplo 2](./images/exec-6-b.png)"
   ]
  },
  {
   "cell_type": "markdown",
   "metadata": {},
   "source": [
    "> 📝 Nesse último prompt, foi utilizado um formato e uma restrição para limitar a resposta do modelo. Ele seguiu a instrução e apresentou três itens simples, mas relevantes."
   ]
  },
  {
   "cell_type": "markdown",
   "metadata": {},
   "source": [
    "**Prompt 3**:\n",
    "\n",
    "Você é um consultor de implementação de soluções em IA, especializado em vender soluções para pequenas empresas.  \n",
    "Sua tarefa é listar 6 itens que exemplifiquem os benefícios de utilizar inteligência artificial em pequenas empresas.  \n",
    "Explique de forma simples e direta, com um tom de voz positivo e animado.\n",
    "\n",
    "- - -\n",
    "Olá [Nome do Cliente], É um prazer te atendê-lo.  \n",
    "Aqui estão uma lista de benefícios que nossas soluções em IA podem trazer para sua empresa:\n",
    "\n",
    "1. [Benefício 1]\n",
    "2. [Benefício 2]  \n",
    "... (Restante dos items)\n",
    "\n",
    "Obrigado pela sua atenção!\n",
    "- - -\n",
    "\n",
    "O nome do cliente é \"Rafael Oliveira\"."
   ]
  },
  {
   "cell_type": "markdown",
   "metadata": {},
   "source": [
    "![Exec 6 - Exemplo 3](./images/exec-6-c.png)"
   ]
  },
  {
   "cell_type": "markdown",
   "metadata": {},
   "source": [
    "> 📝 Neste último prompt, utilizamos várias técnicas de otimização, incluindo definição de persona, exemplos, limitações, tom de voz e formatação. Isso direcionou a resposta do modelo, entregando o formato desejado. Acredito que a resposta foi exatamente o que eu esperava."
   ]
  }
 ],
 "metadata": {
  "kernelspec": {
   "display_name": "Python 3",
   "language": "python",
   "name": "python3"
  },
  "language_info": {
   "codemirror_mode": {
    "name": "ipython",
    "version": 3
   },
   "file_extension": ".py",
   "mimetype": "text/x-python",
   "name": "python",
   "nbconvert_exporter": "python",
   "pygments_lexer": "ipython3",
   "version": "3.12.7"
  }
 },
 "nbformat": 4,
 "nbformat_minor": 2
}
