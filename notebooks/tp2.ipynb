{
 "cells": [
  {
   "cell_type": "markdown",
   "metadata": {},
   "source": [
    "## TP2 - Engenharia de Prompts para Ciência de Dados [24E4_4]\n",
    "\n",
    "**Rafael Soares de Oliveira**\n",
    "\n",
    "Infnet - Ciência de Dados | Novembro 2024\n",
    "\n",
    "https://lms.infnet.edu.br/moodle/mod/assign/view.php?id=432144\n",
    "\n",
    "---\n"
   ]
  },
  {
   "cell_type": "markdown",
   "metadata": {},
   "source": [
    "### Exercício 1: Princípios de Criação de Prompts Eficazes\n",
    "\n",
    "Alguns princípios são essenciais para a construção de prompts claros e obtenção de respostas precisas. Identifique e explique quais princípios foram utilizados no prompt abaixo:\n",
    "\n",
    "**Prompt**\n",
    "\n",
    "Como um especialista em turismo, liste 3 atrações turísticas imperdíveis de Paris e forneça uma breve descrição para cada uma delas. Aqui está um exemplo do formato esperado:\n",
    "\n",
    "Atração 1: Torre Eiffel\n",
    "\n",
    "Descrição: Um dos monumentos mais icônicos do mundo, conhecido por sua estrutura de ferro e vista panorâmica da cidade.\n"
   ]
  },
  {
   "cell_type": "markdown",
   "metadata": {},
   "source": [
    "> 📝 Com base no \"The Five S Model\", o prompt acima contém os seguintes príncipios:\n",
    ">\n",
    "> **Direcione:** O tom e o contexto da resposta for escrito de forma clara, especificando o papel do LLM \"como um especialista em turismo\" indicando que a resposta deve ser orientada como se fosse dada por um especialista no assunto.\n",
    ">\n",
    "> **Formate:** O prompt fornece um pedido para listar \"3 atrações turísticas imperdíveis\" com \"uma breve descrição\" definindo o formato do conteúdo e a quantidade de detalhes necessárias na resposta, inclusive, dando um exemplo de como o output deve ser formatado.\n",
    ">\n",
    "> **Exemplifique:** O prompt dá um exemplo baseado na \"Torre Eiffel\" como atração e sua descrição oferece um exemplo específico do que se espera. Isso ajuda a esclarecer a estrutura e também dá uma noção do tipo de linguagem e nível de detalhamento esperados.\n"
   ]
  },
  {
   "cell_type": "markdown",
   "metadata": {},
   "source": [
    "---\n",
    "\n",
    "### Exercício 2: Simulação de Atendimento ao Cliente com Diferentes Personas\n",
    "\n",
    "Vamos simular uma situação de telemarketing onde persona e tom são críticos para o sucesso da interação. Para criarmos uma base de treinamento dos operadores, simule duas respostas para o mesmo atendimento, ora com um cliente agressivo, ora com um cliente tranquilo. Crie e teste um prompt (Poe.com) para cada situação a partir do atendimento:\n",
    "\n",
    "“Bom dia, me chamo João e lhe trago hoje uma promoção imperdível sobre a sua assinatura de internet móvel. Por mais 20 reais, consigo lhe oferecer 10GB a mais na sua franquia. Quando podemos estar agendando a sua migração?”\n",
    "\n",
    "Descreva o comportamento do cliente nas duas situações? As respostas saíram como o esperado?\n"
   ]
  },
  {
   "cell_type": "markdown",
   "metadata": {},
   "source": [
    "**Prompt #1 (Agressivo):**\n",
    "\n",
    "> Eu sou um atendente de telemarketing que te ligou te oferendo uma promoção de internet móvel.\n",
    "> Esse é um exemplo do que eu falaria assim que você atendesse a chamada:\n",
    ">\n",
    "> “Bom dia, me chamo João e lhe trago hoje uma promoção imperdível sobre a sua assinatura de internet móvel. Por mais 20 reais, consigo lhe oferecer 10GB a mais na sua franquia. Quando podemos estar agendando a sua migração?”\n",
    ">\n",
    "> Você deve responder esse questão agindo como um cliente agressivo que não tem interesse no plano.\n",
    "> Sua resposta deve objetiva e conter pelo menos 2 parágrafos.\n"
   ]
  },
  {
   "cell_type": "markdown",
   "metadata": {},
   "source": [
    "![Exec 2a](./images/exec-2-a.png)\n"
   ]
  },
  {
   "cell_type": "markdown",
   "metadata": {},
   "source": [
    "**Prompt #2 (Tranquilo):**\n",
    "\n",
    "> Eu sou um atendente de telemarketing que te ligou te oferendo uma promoção de internet móvel.\n",
    "> Esse é um exemplo do que eu falaria assim que você atendesse a chamada:\n",
    ">\n",
    "> “Bom dia, me chamo João e lhe trago hoje uma promoção imperdível sobre a sua assinatura de internet móvel. Por mais 20 reais, consigo lhe oferecer 10GB a mais na sua franquia. Quando podemos estar agendando a sua migração?”\n",
    ">\n",
    "> Você deve responder esse questão agindo como um cliente que não tem interesse no plano, mas que age de forma tranquila e amigável.\n",
    "> Sua resposta deve objetiva e conter pelo menos 2 parágrafos.\n"
   ]
  },
  {
   "cell_type": "markdown",
   "metadata": {},
   "source": [
    "![Exec 2b](./images/exec-2-b.png)\n"
   ]
  },
  {
   "cell_type": "markdown",
   "metadata": {},
   "source": [
    "> 📝 Acredito que o modelo Llama desempenhou bem o seu papel nas duas situações, agindo conforme esperado. Inclusive, é possível até sentir um certo desconforto com a resposta agressiva. Na minha opinião, a resposta foi um pouco longa, então acredito que alteraria o prompt para pedir a resposta em apenas um parágrafo em usos futuros.\n"
   ]
  },
  {
   "cell_type": "markdown",
   "metadata": {},
   "source": [
    "---\n",
    "\n",
    "### Exercício 3: Automação de Mensagens Promocionais com Princípios de Prompting\n",
    "\n",
    "A empresa de turismo viagens.com deseja automatizar o processo de criação de envio de mensagens para clientes, informando-lhes sobre promoções recentes. Escreva um prompt que contenha os três princípios de 1) persona, 2) dados e 3) tom para gerar a mensagem automática. Execute o prompt usando a sua conta Poe.com e justifique se o LLM respondeu como esperado.\n"
   ]
  },
  {
   "cell_type": "markdown",
   "metadata": {},
   "source": [
    "**Prompt:**\n"
   ]
  },
  {
   "cell_type": "markdown",
   "metadata": {},
   "source": [
    "> Você é um assistente de viagens e seu trabalho é oferecer pacotes promocionais de viagens para seus clientes.\n",
    "> Você sempre responde de forma amigável e positiva.\n",
    "> Seu papel é redigir um email com cerca de 100 palavras, oferecendo um dos seguintes pacotes de viagem:\n",
    ">\n",
    "> Pacote 1: Viagem a Búzios \\\n",
    "> Tempo: 10 Dias \\\n",
    "> Hotel: Incluso \\\n",
    "> Refeições: Inclusas\n",
    ">\n",
    "> Pacote 2: Curitiba \\\n",
    "> Tempo: 3 Dias \\\n",
    "> Hotel: Incluso \\\n",
    "> Refeições: Não inclusas\n",
    ">\n",
    "> O nome do cliente é Rafael.\n"
   ]
  },
  {
   "cell_type": "markdown",
   "metadata": {},
   "source": [
    "![Exec 3](./images/exec-3.png)\n"
   ]
  },
  {
   "cell_type": "markdown",
   "metadata": {},
   "source": [
    "> 📝 Achei que a resposta foi dentro do que eu esperava. O LLM respondeu de forma amigável e desempenhou muito bem o seu papel.\n"
   ]
  },
  {
   "cell_type": "markdown",
   "metadata": {},
   "source": [
    "---\n",
    "\n",
    "### Exercício 4: Desenvolvimento de Prompts para Recomendação de Produtos\n",
    "\n",
    "Você está desenvolvendo um sistema de recomendações de produtos para um e-commerce. Crie dois prompts com base nos princípios de prompting, sendo o primeiro um prompt simples e o segundo um prompt com exemplos (few-shot prompting). Utilize o Poe.com para testar os prompts com um LLM, comparando os resultados gerados. Qual dos prompts foi mais eficaz e por quê?\n"
   ]
  },
  {
   "cell_type": "markdown",
   "metadata": {},
   "source": [
    "**Prompt #1:**\n",
    "\n",
    "Você é um assistente de um ecommerce especializado em óculos de sol que sempre responde de forma animada e feliz.\n",
    "Você deve recomendar 3 produtos para um cliente interessado.\n",
    "Sua resposta deve ter no máximo 80 palavras.\n"
   ]
  },
  {
   "cell_type": "markdown",
   "metadata": {},
   "source": [
    "![Exec 4a](./images/exec-4-a.png)\n"
   ]
  },
  {
   "cell_type": "markdown",
   "metadata": {},
   "source": [
    "**Prompt #2:**\n",
    "\n",
    "> Você é um assistente de um ecommerce especializado em óculos de sol que sempre responde de forma animada e feliz.\n",
    "> Você deve recomendar 3 produtos para um cliente interessado.\n",
    "> Sua resposta deve seguir o formato dos exemplos abaixo:\n",
    ">\n",
    "> Olá! Segue uma lista de óculos que combinam com você:\n",
    ">\n",
    "> Ray-ban Aviador: Um modelo atemporal que marcou época e está sempre na moda!\n",
    "> Ray-ban Wayfarer: Dinâmico e moderno, este modelo não sai de moda nunca!\n",
    "> Oakley Holbrook: Um modelo esportivo que combina perfeito para o amante do surf.\n",
    ">\n",
    "> --\n",
    ">\n",
    "> Olá! Confira os modelos que fazem sucesso em 2024:\n",
    ">\n",
    "> Ray-ban Clubmaster: Um ícone vintage que continua fazendo sucesso!\n",
    "> Ray-ban Hexagonal: A nova tendência da Ray-ban, disponível em várias cores e acabamentos.\n",
    "> Oakley Iridium: Moderno e ousado, um modelo para quem sabe o que quer.\n"
   ]
  },
  {
   "cell_type": "markdown",
   "metadata": {},
   "source": [
    "![Exec 4b](./images/exec-4-b.png)\n"
   ]
  },
  {
   "cell_type": "markdown",
   "metadata": {},
   "source": [
    "> 📝 Com certeza, o segundo prompt foi bem mais eficaz. Ele trouxe uma resposta em um formato padronizado, dentro do esperado, o que facilitaria muito caso fosse incorporado em uma aplicação, por exemplo.\n"
   ]
  },
  {
   "cell_type": "markdown",
   "metadata": {},
   "source": [
    "---\n",
    "\n",
    "### Exercício 5: Listagem de Componentes de Computadores de Alto Desempenho\n",
    "\n",
    "Utilize o Poe.com para criar um prompt simples que faça o LLM listar os principais componentes de um computador de alto desempenho, suas capacidades computacionais (HD, RAM, CPU, GPU…), marcas, modelos e preços. Teste o prompt e explique se o resultado atendeu às expectativas: as marcas e modelos existem? As capacidades do computador são de alto desempenho? Compare com fontes encontradas na internet."
   ]
  },
  {
   "cell_type": "markdown",
   "metadata": {},
   "source": [
    "**Prompt:**\n",
    "\n",
    "Você é um assistente especializado em montar computadores de alto desempenho para jogos atuais. Sua tarefa é criar uma lista detalhada de peças para três configurações diferentes de PC gamer: básica, intermediária e avançada.  \n",
    "Para cada configuração, inclua o nome da peça e o preço estimado em R$. Organize a resposta conforme o exemplo abaixo:\n",
    "\n",
    "---\n",
    "\n",
    "**Configuração Básica**  \n",
    "Processador: AMD Ryzen 5 4600G – (R$ 580)  \n",
    "Cooler: Cooler box – R$ 0  \n",
    "Placa-mãe: A partir da B450 – (R$ 500)  \n",
    "Memória RAM: 2x 8GB DDR4 @3200MTs – (R$320)  \n",
    "Armazenamento: SSD NVMe 1TB Kingston NV2 – (R$ 380)  \n",
    "Fonte: 600W – (R$ 270)\n",
    "\n",
    "**Configuração Intermediária**  \n",
    "Siga o mesmo formato.\n",
    "\n",
    "**Configuração Básica**  \n",
    "Siga o mesmo formato.\n",
    "\n",
    "---\n",
    "\n",
    "Observe os seguintes pontos:\n",
    "\n",
    "Selecione componentes com bom custo-benefício e com desempenho adequado ao nível de cada configuração.  \n",
    "Mantenha os preços estimados em R$, com valores realistas.  \n",
    "Você deve retornar apenas as configurações seguindo o formato e a estrutura do exemplo.\n"
   ]
  },
  {
   "cell_type": "markdown",
   "metadata": {},
   "source": [
    "![Exec 5](./images/exec-5.png)\n"
   ]
  },
  {
   "cell_type": "markdown",
   "metadata": {},
   "source": [
    "**Exemplos reais da internet:**\n",
    "\n",
    "![Exec 5 - Exemplo 1](./images/exec-5-exemplo-1.png)\n",
    "![Exec 5 - Exemplo 2](./images/exec-5-exemplo-2.png)\n",
    "![Exec 5 - Exemplo 2](./images/exec-5-exemplo-2.png)\n"
   ]
  },
  {
   "cell_type": "markdown",
   "metadata": {},
   "source": [
    "> 📝 Com base na pesquisa rápida que fiz, acredito que a resposta do modelo está de acordo com o esperado. O modelo não incluiu nenhuma opção baseada em processadores Intel, mas parece que esses não são tão populares quanto os processadores da AMD atualmente.\n"
   ]
  },
  {
   "cell_type": "markdown",
   "metadata": {},
   "source": [
    "---\n",
    "\n",
    "### Exercício 6: Análise dos Benefícios da Inteligência Artificial para Pequenas Empresas\n",
    "\n",
    "Desenvolva um prompt simples para que o LLM forneça uma análise rápida sobre os benefícios de usar inteligência artificial em pequenas empresas. Qual foi o resultado gerado pelo LLM? Aplique os princípios de prompt para obter resultados mais precisos. Teste os prompts na sua conta do Poe.com e copie os prompts e respectivas saídas, junto com a explicação do que foi feito entre um prompt e outro.\n"
   ]
  },
  {
   "cell_type": "markdown",
   "metadata": {},
   "source": [
    "**Prompt 1**:\n",
    "\n",
    "Quais os benefícios de usar inteligência artificial em pequenas empresas?\n"
   ]
  },
  {
   "cell_type": "markdown",
   "metadata": {},
   "source": [
    "![Exec 6 - Exemplo 1](./images/exec-6-a.png)\n"
   ]
  },
  {
   "cell_type": "markdown",
   "metadata": {},
   "source": [
    "> 📝 Neste caso, foi utilizado um prompt bem simples, sem definir formatos, papéis ou expectativas para o output. O resultado gerado pela IA foi relevante, mas acabou sendo um pouco mais longo do que eu esperava.\n"
   ]
  },
  {
   "cell_type": "markdown",
   "metadata": {},
   "source": [
    "**Prompt 2**:\n",
    "\n",
    "Quais os benefícios de usar inteligência artificial em pequenas empresas?\n",
    "Responda de forma resumida e fácil de entender, com no máximo 3 items ou 100 palavras.\n"
   ]
  },
  {
   "cell_type": "markdown",
   "metadata": {},
   "source": [
    "![Exec 6 - Exemplo 2](./images/exec-6-b.png)\n"
   ]
  },
  {
   "cell_type": "markdown",
   "metadata": {},
   "source": [
    "> 📝 Nesse último prompt, foi utilizado um formato e uma restrição para limitar a resposta do modelo. Ele seguiu a instrução e apresentou três itens simples, mas relevantes.\n"
   ]
  },
  {
   "cell_type": "markdown",
   "metadata": {},
   "source": [
    "**Prompt 3**:\n",
    "\n",
    "Você é um consultor de implementação de soluções em IA, especializado em vender soluções para pequenas empresas.  \n",
    "Sua tarefa é listar 6 itens que exemplifiquem os benefícios de utilizar inteligência artificial em pequenas empresas.  \n",
    "Explique de forma simples e direta, com um tom de voz positivo e animado.\n",
    "\n",
    "---\n",
    "\n",
    "Olá [Nome do Cliente], É um prazer te atendê-lo.  \n",
    "Aqui estão uma lista de benefícios que nossas soluções em IA podem trazer para sua empresa:\n",
    "\n",
    "1. [Benefício 1]\n",
    "2. [Benefício 2]  \n",
    "   ... (Restante dos items)\n",
    "\n",
    "Obrigado pela sua atenção!\n",
    "\n",
    "---\n",
    "\n",
    "O nome do cliente é \"Rafael Oliveira\".\n"
   ]
  },
  {
   "cell_type": "markdown",
   "metadata": {},
   "source": [
    "![Exec 6 - Exemplo 3](./images/exec-6-c.png)\n"
   ]
  },
  {
   "cell_type": "markdown",
   "metadata": {},
   "source": [
    "> 📝 Neste último prompt, utilizamos várias técnicas de otimização, incluindo definição de persona, exemplos, limitações, tom de voz e formatação. Isso direcionou a resposta do modelo, entregando o formato desejado. Acredito que a resposta foi exatamente o que eu esperava.\n"
   ]
  },
  {
   "cell_type": "markdown",
   "metadata": {},
   "source": [
    "---\n",
    "\n",
    "### Exercício 7: Resumo de Notícia Utilizando Exemplos em Prompts\n",
    "\n",
    "Usando a API Gemini, crie um notebook que utilize prompts para resumir uma notícia (escolha da página principal de um portal de notícias e copie no notebook). O prompt deve solicitar um resumo dessa notícia usando o princípio de Exemplos para guiar a resposta do LLM. Teste o código e avalie a qualidade do resumo gerado.\n"
   ]
  },
  {
   "cell_type": "code",
   "execution_count": 2,
   "metadata": {},
   "outputs": [],
   "source": [
    "import google.generativeai as genai\n",
    "import os\n",
    "\n",
    "noticia_md = \"\"\"\n",
    "# Cobrança duplicada no app do Nubank? Clientes relatam problemas nas redes sociais\n",
    " \n",
    "## Segundo os relatos, o app tem enviado notificações com aprovação de compras que foram realizadas há várias semanas ou meses e que já foram cobradas em faturas antigas.\n",
    "\n",
    "Clientes do Nubank usam as redes sociais na manhã desta sexta-feira (8) para relatar problemas com cobranças duplicadas de compras antigas no aplicativo do banco digital.\n",
    "\n",
    "Segundo os relatos, o app tem enviado notificações com aprovação de compras que foram realizadas há várias semanas ou meses e que já foram cobradas em faturas antigas.  \n",
    "\n",
    "A plataforma Downdetector, que detecta relatos de problemas com aplicativos, mostra que o número de reclamações sobre o Nubank começou a aumentar por volta das 7h desta sexta e atingiram um pico às 10h.\n",
    "\n",
    "O g1 procurou o Nubank para entender o que causou o problema, mas o banco não respondeu até a publicação da matéria.\n",
    "\n",
    "Fonte: https://g1.globo.com/economia/noticia/2024/11/08/clientes-do-nubank-relatam-problemas-nas-redes-sociais.ghtml\n",
    "\"\"\"\n",
    "\n",
    "# Prompt com exemplo de resumo\n",
    "prompt = f\"\"\"\n",
    "Resuma a [NOTICIA] abaixo em até 2 parágrafos contendo os principais pontos abordados.\n",
    "Exemplo a ser seguido:\n",
    "\n",
    "[NOTICIA]\n",
    "\"Uma onda de populismo autoritário se levanta', diz vice do STF em evento sobre Mercosul.\"\n",
    "- - -\n",
    "[RESUMO]\n",
    "\"Edson Fachin deu a declaração durante abertura de seminário realizado pela Suprema Corte em Brasília.\n",
    "Ele não especificou a quem se referia quando citou autoritarismo.\"\n",
    "\n",
    "Agora, faça o resumo da noticia abaixo:\n",
    "[NOTICIA]\n",
    "\"{noticia_md}\"\n",
    "- - -\n",
    "[RESUMO]\n",
    "\"\"\"\n",
    "\n",
    "# Setup do Gemini API\n",
    "genai.configure(api_key=os.environ[\"GEMINI_API_KEY\"])\n",
    "model = genai.GenerativeModel(\"gemini-1.5-flash\")\n",
    "response = model.generate_content(prompt)"
   ]
  },
  {
   "cell_type": "code",
   "execution_count": 11,
   "metadata": {},
   "outputs": [
    {
     "data": {
      "text/markdown": [
       "[RESUMO]\n",
       "\n",
       "Clientes do Nubank estão reclamando nas redes sociais sobre cobranças duplicadas de compras antigas no aplicativo do banco digital. O problema parece estar afetando vários usuários, com notificações de aprovação de compras que já foram realizadas e pagas em faturas antigas. O número de reclamações aumentou consideravelmente na manhã desta sexta-feira, segundo a plataforma Downdetector. O Nubank ainda não se pronunciou sobre a causa do problema. \n"
      ],
      "text/plain": [
       "<IPython.core.display.Markdown object>"
      ]
     },
     "metadata": {},
     "output_type": "display_data"
    }
   ],
   "source": [
    "from IPython.display import display, Markdown\n",
    "\n",
    "# Resultado\n",
    "display(Markdown(response.text))"
   ]
  },
  {
   "cell_type": "markdown",
   "metadata": {},
   "source": [
    "> 📝 A resposta do modelo foi satisfatória e seguiu as instruções fornecidas. Acredito que poderia ser um pouco mais resumida, talvez limitando o tamanho da resposta em número de palavras, mas, de modo geral, o resultado foi positivo.\n"
   ]
  },
  {
   "cell_type": "markdown",
   "metadata": {},
   "source": [
    "---\n",
    "\n",
    "### Exercício 8: Identificação de Entidades em Notícias com LLM\n",
    "\n",
    "Uma consultoria lhe contratou para automatizar a descoberta de pessoas mencionadas em notícias de jornal. Com base no Exercício 7, escolha 3 notícias e monte uma aplicação com um prompt para o LLM identificar menções a diferentes entidades em cada notícia (como pessoas, órgãos públicos, empresas…). Implemente um notebook para testar o código usando a API do Gemini. Descreva o prompt, seus resultados e avalie se a resposta do modelo atende às expectativas da consultoria.\n"
   ]
  },
  {
   "cell_type": "code",
   "execution_count": null,
   "metadata": {},
   "outputs": [],
   "source": [
    "import google.generativeai as genai\n",
    "import os\n",
    "\n",
    "\n",
    "# -------------------------\n",
    "# Implementação com Gemini\n",
    "# -------------------------\n",
    "def get_model():\n",
    "    genai.configure(api_key=os.environ[\"GEMINI_API_KEY\"])\n",
    "    return genai.GenerativeModel(\"gemini-1.5-flash\")\n",
    "\n",
    "\n",
    "def get_entities(text) -> str:\n",
    "    # Prompt com exemplo de resumo\n",
    "    prompt = f\"\"\"\n",
    "    Você deve identificar as entidades mencionadas na notícia abaixo.\n",
    "    Entidades são nomes de pessoas, organizações, locais, datas, valores, entre outros.\n",
    "    Entidades similares devem ser agrupadas por vírgula.\n",
    "    Formato a seguido:\n",
    "    \n",
    "    [TEXTO]\n",
    "    \"O presidente Lula viajou para Brasília na última quinta-feira a fim de encontrar Renan Santos.\"\n",
    "    \n",
    "    [ENTIDADES]\n",
    "    - Pessoa: Lula, Renan Santos\n",
    "    - Local: Brasília\n",
    "    - Data: última quinta-feira\n",
    "    ...\n",
    "    \n",
    "    Agora, identifique as entidades no texto abaixo:\n",
    "    [TEXTO]\n",
    "    \"{text}\"\n",
    "    \"\"\"\n",
    "    return get_model().generate_content(prompt)"
   ]
  },
  {
   "cell_type": "code",
   "execution_count": 17,
   "metadata": {},
   "outputs": [],
   "source": [
    "# Prepara o texto das notícias\n",
    "noticias = []\n",
    "noticias.append(\n",
    "    \"\"\"\n",
    "# Cobrança duplicada no app do Nubank? Clientes relatam problemas nas redes sociais\n",
    " \n",
    "## Segundo os relatos, o app tem enviado notificações com aprovação de compras que foram realizadas há várias semanas ou meses e que já foram cobradas em faturas antigas.\n",
    "\n",
    "Clientes do Nubank usam as redes sociais na manhã desta sexta-feira (8) para relatar problemas com cobranças duplicadas de compras antigas no aplicativo do banco digital.\n",
    "\n",
    "Segundo os relatos, o app tem enviado notificações com aprovação de compras que foram realizadas há várias semanas ou meses e que já foram cobradas em faturas antigas.  \n",
    "\n",
    "A plataforma Downdetector, que detecta relatos de problemas com aplicativos, mostra que o número de reclamações sobre o Nubank começou a aumentar por volta das 7h desta sexta e atingiram um pico às 10h.\n",
    "\n",
    "O g1 procurou o Nubank para entender o que causou o problema, mas o banco não respondeu até a publicação da matéria.\n",
    "\n",
    "Fonte: https://g1.globo.com/economia/noticia/2024/11/08/clientes-do-nubank-relatam-problemas-nas-redes-sociais.ghtml\n",
    "\"\"\"\n",
    ")\n",
    "\n",
    "noticias.append(\n",
    "    \"\"\"\n",
    "# Dom Antônio Orleans e Bragança, membro da Família Real Brasileira, morre no Rio\n",
    "\n",
    "## Ele tinha 74 anos e estava internado desde julho na Casa de Saúde São José, no Humaitá, na Zona Sul da cidade.\n",
    "\n",
    "Dom Antônio Orleans e Bragança, membro da Família Real Brasileira, morreu na manhã desta sexta-feira (8). Ele tinha 74 anos e estava internado desde julho na Casa de Saúde São José, no Humaitá, na Zona Sul do Rio de Janeiro.\n",
    "\n",
    "Dom Antônio foi levado à unidade de saúde por conta de problemas respiratórios. A Casa de Saúde São José confirmou a morte por doença pulmonar obstrutiva.\n",
    "\n",
    "O velório será Igreja da Imperial Irmandade de Nossa Senhora da Glória do Outeiro, no bairro da Glória, também na Zona Sul.\n",
    "\n",
    "Dom Antônio era pai de Pedro Luís de Orleans e Bragança, que morreu aos 26 anos na queda do voo 447, da Air France, em 2009. Ele chegou a discursar em uma missa em memória dos passageiros, na Igreja de Nossa Senhora do Carmo da Antiga Sé, no Centro do Rio.\n",
    "\n",
    "\n",
    "Fonte: https://g1.globo.com/rj/rio-de-janeiro/noticia/2024/11/08/dom-antonio-orleans-e-braganca-morre-no-rio.ghtml\n",
    "\"\"\"\n",
    ")\n",
    "\n",
    "noticias.append(\n",
    "    \"\"\"\n",
    "# Russo é condenado a 13 anos de prisão por doar 50 euros ao exército ucraniano\n",
    "\n",
    "## Kraichik, de 34 anos, foi detido em 2023 quando se preparava para deixar a Rússia com destino à Turquia, poucos dias depois de o seu telefone ter sido confiscado.\n",
    "\n",
    "\n",
    "Um russo foi condenado a 13 anos de prisão por \"alta traição\" por ter apoiado financeiramente o Exército ucraniano com uma doação de 50 euros, o equivalente a R$ 305, segundo a agência Ria Novosti.\n",
    "\n",
    "Um tribunal de Moscou considerou Alexander Kraichik \"culpado de alta traição por ter dado apoio financeiro a um Estado estrangeiro\" por \"motivos de ódio político e ideológico\".\n",
    "\n",
    "Segundo o tribunal, Kraichik fez \"uma transferência de 50 euros para uma conta bancária alemã aberta pelo exército ucraniano\", dois dias após o início da operação militar russa na Ucrânia, em 24 de fevereiro de 2022.\n",
    "\n",
    "O grupo de defesa dos direitos humanos Memorial, classificado como \"agente estrangeiro\" e banido pelas autoridades russas, diz que Kraichik, de 34 anos, foi detido em 2023 quando se preparava para deixar a Rússia com destino à Turquia, poucos dias depois de o seu telefone ter sido confiscado.\n",
    "\n",
    "Em agosto, uma cidadã russo-americana de 32 anos, Ksenia Karelina, também foi condenada a 12 anos de prisão por uma doação de cerca de 50 dólares a uma organização ucraniana. A mulher morava na Califórnia, mas foi detida enquanto visitava a família na Rússia.\n",
    "\n",
    "Desde 2022, as autoridades russas multiplicaram as detenções por \"espionagem\", \"traição\", \"sabotagem\", \"extremismo\" ou por simples críticas ao exército, detenções que são muitas vezes acompanhadas de longas penas de prisão.\n",
    "\n",
    "\n",
    "Fonte: https://g1.globo.com/mundo/noticia/2024/11/08/russo-e-condenado-a-13-anos-de-prisao-por-doar-50-euros-ao-exercito-ucraniano.ghtml\n",
    "\n",
    "    \"\"\"\n",
    ")"
   ]
  },
  {
   "cell_type": "code",
   "execution_count": 18,
   "metadata": {},
   "outputs": [
    {
     "data": {
      "text/markdown": [
       "[ENTIDADES]\n",
       "- Pessoa:  \n",
       "- Organização: Nubank, Downdetector, g1 \n",
       "- Local: \n",
       "- Data: sexta-feira (8), 7h, 10h\n",
       "- Valor: \n",
       "- Outras: app, notificações, compras, faturas antigas, redes sociais,  reclamações, problema \n"
      ],
      "text/plain": [
       "<IPython.core.display.Markdown object>"
      ]
     },
     "metadata": {},
     "output_type": "display_data"
    },
    {
     "data": {
      "text/markdown": [
       "## ENTIDADES\n",
       "\n",
       "- **Pessoa:** Dom Antônio Orleans e Bragança, Pedro Luís de Orleans e Bragança\n",
       "- **Organização:** Família Real Brasileira, Casa de Saúde São José, Igreja da Imperial Irmandade de Nossa Senhora da Glória do Outeiro, Igreja de Nossa Senhora do Carmo da Antiga Sé, Air France\n",
       "- **Local:** Rio de Janeiro, Humaitá, Zona Sul, Glória, Centro do Rio\n",
       "- **Data:** sexta-feira (8), julho, 2009\n",
       "- **Valor:** 74 anos, 26 anos, 447 \n",
       "- **Outro:** doença pulmonar obstrutiva, problemas respiratórios, voo 447, missa,  morte\n"
      ],
      "text/plain": [
       "<IPython.core.display.Markdown object>"
      ]
     },
     "metadata": {},
     "output_type": "display_data"
    },
    {
     "data": {
      "text/markdown": [
       "[ENTIDADES]\n",
       "- Pessoa: Alexander Kraichik, Ksenia Karelina\n",
       "- Organização: Exército ucraniano, Memorial, Ria Novosti\n",
       "- Local: Rússia, Moscou, Turquia, Califórnia, Ucrânia, Alemanha\n",
       "- Data: 2023, 24 de fevereiro de 2022, agosto\n",
       "- Valor: 50 euros, R$ 305, 50 dólares\n",
       "- Outro: alta traição, agente estrangeiro, espionagem, traição, sabotagem, extremismo \n"
      ],
      "text/plain": [
       "<IPython.core.display.Markdown object>"
      ]
     },
     "metadata": {},
     "output_type": "display_data"
    }
   ],
   "source": [
    "from IPython.display import display, Markdown\n",
    "\n",
    "# Executa a função para cada notícia\n",
    "for noticia in noticias:\n",
    "    response = get_entities(noticia)\n",
    "    display(Markdown(response.text))"
   ]
  },
  {
   "cell_type": "markdown",
   "metadata": {},
   "source": [
    "> 📝 A resposta do modelo foi muito satisfatória na minha opinião. Acredito que, com mais testes e melhorias, poderíamos chegar a um resultado ainda melhor e mais padronizado, talvez utilizando uma resposta em JSON, por exemplo.\n"
   ]
  },
  {
   "cell_type": "markdown",
   "metadata": {},
   "source": [
    "---\n",
    "\n",
    "### Exercício 9: Cálculo de Tokens em Texto Longo com API Gemini\n",
    "\n",
    "Implemente um notebook que use a API Gemini para calcular a quantidade de tokens necessários para processar um texto de 5.000 palavras. Baseie-se no modelo de tokenização utilizado por Gemini e explique como a quantidade de tokens influencia o custo e o desempenho da interação com LLMs em textos longos.\n"
   ]
  },
  {
   "cell_type": "code",
   "execution_count": null,
   "metadata": {},
   "outputs": [],
   "source": [
    "import google.generativeai as genai\n",
    "import os\n",
    "\n",
    "\n",
    "# -------------------------\n",
    "# Implementação com Gemini\n",
    "# -------------------------\n",
    "def get_model():\n",
    "    genai.configure(api_key=os.environ[\"GEMINI_API_KEY\"])\n",
    "    return genai.GenerativeModel(\"gemini-1.5-flash\")\n",
    "\n",
    "\n",
    "def estimate_tokens(prompt):\n",
    "    # Quebra o texto \"\\n\" e remove linhas em branco\n",
    "    prompt_lines = prompt.strip().split(\"\\n\")\n",
    "\n",
    "    estimate = 0\n",
    "    for line in prompt_lines:\n",
    "        tokens = get_model().count_tokens(line)\n",
    "        estimate += tokens.total_tokens\n",
    "\n",
    "    return estimate"
   ]
  },
  {
   "cell_type": "code",
   "execution_count": 64,
   "metadata": {},
   "outputs": [],
   "source": [
    "# Exemplo de baseado no \"Sapiens: Uma Breve História da Humanidade\" (5000 palavras)\n",
    "texto = \"\"\"\n",
    "Muito antes de haver historia, ja havia seres humanos. Animais bastante similaresaos humanos modernos surgiram por volta de 2,5 milhoes de anos atras. Mas, porincontaveis geracoes, eles nao se destacaram da miriade de outros organismoscom os quais partilhavam seu habitat.\n",
    "Em um passeio pela Africa Oriental de 2 milhoes de anos atras, vocepoderia muito bem observar certas caracteristicas humanas familiares: maesansiosas acariciando seus bebes e bandos de criancas despreocupadas brincandona lama; jovens temperamentais rebelando-se contra as regras da sociedade eidosos cansados que so queriam ficar em paz; machos orgulhosos tentandoimpressionar as beldades locais e velhas matriarcas sabias que ja tinham visto detudo. Esses humanos arcaicos amavam, brincavam, formavam lacos fortes deamizade e competiam por status e poder – mas os chimpanzes, os babuinos e oselefantes tambem. Nao havia nada de especial nos humanos. Ninguem, muitomenos eles proprios, tinha qualquer suspeita de que seus descendentes um diaviajariam a Lua, dividiriam o atomo, mapeariam o codigo genetico eescreveriam livros de historia. A coisa beldades locais e velhas matriarcas beldades locais e velhas matriarcas beldades locais e velhas mais a saber acerca doshumanos pre-historicos e que eles eram animais insignificantes, cujo impactosobre o ambiente nao era maior que o de gorilas, vaga-lumes ou aguas-vivas.\n",
    "Os biologos classificam os organismos em especies. Consideram que osanimais pertencem a uma mesma especie se eles tendem a acasalar uns com osoutros, gerando descendentes ferteis. Cavalos e jumentos tem um ancestralrecente em comum e partilham muitos tracos fisicos, mas demonstram poucointeresse sexual uns pelos outros. Acasalam entre si se forem induzidos a isso –entretanto seus descendentes, chamados mulas, sao estereis. Mutacoes no DNAdos jumentos podem nunca ter passado para os cavalos, e vice-versa. Os doistipos de animais sao consequentemente considerados duas especies diferentes,trilhando caminhos evolucionarios distintos. Ja um buldogue e um spaniel podemser muito diferentes em aparencia, mas sao membros da mesma especie,partilhando a mesma informacao de DNA. Acasalam entre si alegremente, eseus filhotes, ao crescer, cruzam com outros cachorros e geram mais filhotes.\n",
    "As especies que evoluiram de um mesmo ancestral sao agrupadas em um“genero”. Leoes, tigres, leopardos e jaguares sao especies diferentes do generoPanthera. Os biologos nomeiam os organismos com um nome duplo latino, ogenero seguido da especie. Os leoes, por exemplo, sao chamados Panthera leo, aespecie leo do genero Panthera. Ao que tudo indica, todos os que estao lendo estelivro sao Homo sapiens – a especie sapiens (sabia) do genero Homo (homem).\n",
    "Os generos, por sua vez, sao agrupados em familias, como a dos felideos(leoes, guepardos, gatos domesticos), a dos canideos (lobos, raposas, chacais) e ados elefantideos (elefantes, mamutes, mastodontes). Todos os membros de umafamilia remontam a um mesmo patriarca ou matriarca original. Todos os gatos,por exemplo, dos menores gatos domesticos ao leao mais feroz, tem em comumum ancestral felideo que viveu ha cerca de 25 milhoes de anos.\n",
    "O Homo sapiens tambem pertence a uma familia. Esse fato banalcostumava ser um dos segredos mais bem guardados da historia. Durante muitotempo, o Homo sapiens preferiu conceber a si mesmo como separado dosanimais, um orfao destituido de familia, carente de primos ou irmaos e, o que emais importante, sem pai nem mae. Mas isso simplesmente nao e verdade.\n",
    "Gostemos ou nao, somos membros de uma familia grande e particularmenteruidosa chamada grandes primatas. Nossos parentes vivos mais proximosincluem os chimpanzes, os gorilas e os orangotangos. Os chimpanzes sao os maisproximos. Ha apenas 6 milhoes de anos, uma mesma femea primata teve duasfilhas. Uma delas se tornou a ancestral de todos os chimpanzes; a outra e nossaavo.\n",
    "Esqueleto no armario. O Homo sapiens guardou um segredo ainda mais perturbador. Nao so temosinumeros primos nao civilizados, como um dia tambem tivemos irmaos e irmas.\n",
    "Costumamos pensar em nos mesmos como os unicos humanos, pois, nos ultimos10 mil anos, nossa especie de fato foi a unica especie humana a existir. Porem, overdadeiro significado da palavra humano e “animal pertencente ao generoHomo”, e antes havia varias outras especies desse genero alem do Homo sapiens.\n",
    "Alem disso, conforme veremos no ultimo capitulo deste livro, num futuro naomuito distante possivelmente teremos de enfrentar humanos nao sapiens. Paramelhor explicar este ponto, usarei o termo “sapiens” para designar membros daespecie Homo sapiens, ao passo que reservarei o termo “humano” para mereferir a todos os membros do genero Homo.\n",
    "Os humanos surgiram na Africa Oriental ha cerca de 2,5 milhoes de anos,a partir de um genero anterior de primatas chamado Australopithecus, quesignifica “macaco do Sul”. Por volta de 2 milhoes de anos atras, alguns desseshomens e mulheres arcaicos deixaram sua terra natal para se aventurar e seassentar em vastas areas da Africa do Norte, da Europa e da Asia. Como asobrevivencia nas florestas nevadas do norte da Europa requeria caracteristicasdiferentes das necessarias a sobrevivencia nas florestas umidas da Indonesia, aspopulacoes humanas evoluiram em direcoes diferentes. O resultado foram variasespecies distintas, a cada uma das quais os cientistas atribuiram um nome latinopomposo.\n",
    "2. Nossos irmaos, de acordo com reconstrucoes especulativas (da esquerdapara a direita): Homo rudolfensis (Africa Oriental); Homo erectus (AsiaOriental); e Homo neanderthalensis (Europa e Asia Ocidental). Todos saohumanos.\n",
    "Os humanos na Europa e na Asia Ocidental deram origem ao Homoneanderthalensis (“homem do vale do Neander”), popularmente conhecidoscomo “neandertais”. Os neandertais, mais robustos e mais musculosos do quenos, sapiens, estavam bem adaptados ao clima frio da Eurasia ocidental da era dogelo. As regioes mais ocidentais da Asia foram povoadas pelo Homo erectus,“Homem ereto”, que sobreviveu na regiao por quase 1,5 milhao de anos, sendo aespecie humana de maior duracao. Esse recorde dificilmente sera quebrado,mesmo por nossa propria especie. E questionavel se o Homo sapiens aindaexistira daqui a mil anos, de modo que 2 milhoes de anos certamente esta fora donosso alcance.\n",
    "Na ilha de Java, na Indonesia, viveu o Homo soloensis, “homem do vale doSolo”, que estava adaptado para a vida nos tropicos. Em outra ilha indonesia – apequena ilha de Flores –, humanos arcaicos passaram por um processo que levouao nanismo. Os humanos chegaram pela primeira vez a ilha de Flores quando onivel do mar estava excepcionalmente baixo, facilitando o acesso a ilha a partirdo continente. Quando o nivel do mar voltou a subir, algumas pessoas ficarampresas na ilha, que era pobre em recursos. As pessoas grandes, que necessitavammuita comida, morriam primeiro. Os individuos menores tinham muito maischances de sobrevivencia. Com o passar das geracoes, as pessoas de Flores setornaram anas. Essa especie unica, conhecida pelos cientistas como Homofloresiensis, chegava uma altura maxima de apenas um metro e pesava nao maisde 25 quilos. Ainda assim, era capaz de produzir ferramentas de pedra eocasionalmente conseguia abater alguns dos elefantes da ilha – embora, a bemda verdade, os elefantes tambem fossem uma especie diminuta.\n",
    "Em 2010, outro irmao perdido foi resgatado do esquecimento, quandocientistas, escavando a caverna de Denisova, na Siberia, descobriram um osso dededo fossilizado. A analise genetica comprovou que o dedo pertencia a umaespecie humana ate entao desconhecida, que foi denominada Homo denisova.\n",
    "Sabe-se la quantos de nossos parentes perdidos estao esperando para serdescobertos em outras cavernas, em outras ilhas e em outros climas.\n",
    "Enquanto esses humanos evoluiam na Europa e na Asia, a evolucao naAfrica Oriental nao parou. O berco da humanidade continuou a nutrir numerosasespecies novas, como o Homo rudolfensis (“homem do lago Rudolf”), o Homoergaster (“homem trabalhador”) e, finalmente, nossa propria especie, que, semmodestia alguma, denominamos Homo sapiens (“homem sabio”).\n",
    "Alguns membros de algumas dessas especies eram gigantes e outros,diminutos. Alguns eram cacadores destemidos, e outros, doceis coletores deplantas. Alguns viviam em uma unica ilha, ao passo que muitos perambulavampor continentes. Mas todos pertenciam ao genero Homo. Eram seres humanos.\n",
    "E uma falacia comum conceber essas especies como dispostas em umalinha reta de descendencia, com os ergaster dando origem aos erectus, os erectusdando origem aos neandertais e os neandertais dando origem a nos. Esse modelolinear da a impressao equivocada de que, em determinado momento, apenas umtipo de humano habitou a Terra e de que todas as especies anteriores forammeros modelos mais antigos de nos mesmos. A verdade e que, deaproximadamente 2 milhoes de anos a 10 mil anos atras, o mundo foi habitadopor varias especies humanas ao mesmo tempo. E por que nao? Hoje ha muitasespecies de raposas, ursos e porcos. O mundo de 100 mil anos atras foi habitadopor pelo menos seis especies humanas diferentes. E nossa exclusividade atual, enao a multiplicidade de especies em nosso passado, que e peculiar – e, talvez,incriminadora. Como logo veremos, nos, sapiens, temos boas razoes parareprimir a lembranca de nossos irmaos.\n",
    "O custo de pensarApesar de suas muitas diferencas, todas as especies humanas tem em comumvarias caracteristicas que as definem. Mais notadamente, os humanos tem ocerebro extraordinariamente grande em comparacao com o de outros animais.\n",
    "Mamiferos pesando 60 quilos tem um cerebro com tamanho medio de 200centimetros cubicos. Os primeiros homens e mulheres, ha 2,5 milhoes de anos,tinham cerebros de cerca de 600 centimetros cubicos. Sapiens modernosapresentam um cerebro de 1200 a 1400 centimetros cubicos. Os cerebros dosneandertais eram ainda maiores.\n",
    "Que a evolucao devesse selecionar cerebros maiores pode nos parecerobvio. Somos tao apaixonados por nossa inteligencia superior que presumimosque, em se tratando de capacidade cerebral, mais deve ser melhor. Mas, se fosseassim, a familia dos felideos tambem teria produzido gatos capazes de fazercalculos, e porcos teriam a esta altura lancado seus proprios programas espaciais.\n",
    "Por que cerebros gigantes sao tao raros no reino animal?O fato e que um cerebro gigante e extremamente custoso para o corpo.\n",
    "Nao e facil de carregar, sobretudo quando envolvido por um cranio pesado. Eainda mais dificil de abastecer. No Homo sapiens, o cerebro equivale a 2 ou 3%do peso corporal, mas consome 25% da energia do corpo quando este esta emrepouso. Em comparacao, o cerebro de outros primatas requer apenas 8% deenergia em repouso. Os humanos arcaicos pagaram por seu cerebro grande deduas maneiras. Em primeiro lugar, passaram mais tempo em busca de comida.\n",
    "Em segundo lugar, seus musculos atrofiaram. Como um governo desviandodinheiro da defesa para a educacao, os humanos desviaram energia do bicepspara os neuronios. Dificilmente pensariamos que essa e uma boa estrategia paraa sobrevivencia na savana. Um chimpanze nao pode ganhar uma discussao comum Homo sapiens, mas pode parti-lo ao meio como uma boneca de pano.\n",
    "Hoje, nosso cerebro grande e uma vantagem, porque podemos produzircarros e armas que permitem nos locomovermos mais rapido que os chimpanzese atirar neles de uma distancia segura em vez de enfrenta-los em um combatecorpo a corpo. Mas carros e armas sao um fenomeno recente. Por mais de 2milhoes de anos, as redes neurais dos humanos continuaram se expandindo, mas,com excecao de algumas facas de silex e varetas pontiagudas, os humanostiraram muito pouco proveito disso. Entao, o que impulsionou a evolucao doenorme cerebro humano durante esses 2 milhoes de anos? Francamente, nos naosabemos.\n",
    "Outro traco humano singular e que andamos eretos sobre duas pernas. Aoficar eretos, e mais facil esquadrinhar a savana a procura de animais de caca oude inimigos, e os bracos, desnecessarios para a locomocao, sao liberados paraoutros propositos, como atirar pedras ou sinalizar. Quanto mais coisas essas maoseram capazes de fazer, mais sucesso tinham os individuos, de modo que apressao evolutiva trouxe uma concentracao cada vez maior de nervos e musculosbem ajustados nas palmas e nos dedos. Em consequencia, os humanos podemrealizar tarefas complexas com as maos. Em particular, podem produzir e usarferramentas sofisticadas. Os primeiros indicios de producao de ferramentasdatam de aproximadamente 2,5 milhoes de anos atras, e a manufatura e o uso deferramentas sao os criterios pelos quais os arqueologos reconhecem humanosantigos.\n",
    "Mas caminhar com a coluna ereta tem la suas desvantagens. O esqueletode nossos ancestrais primatas se desenvolveu durante milhoes de anos parasustentar uma criatura que andava de quatro e tinha uma cabeca relativamentepequena. Adaptar-se a uma posicao ereta foi um grande desafio, sobretudoquando a estrutura precisou sustentar um cranio extragrande. A humanidadepagou por sua visao elevada e suas maos habilidosas com dores nas costas erigidez no pescoco.\n",
    "As mulheres pagaram ainda mais. Um andar ereto exigia quadris maisestreitos, constringindo o canal do parto – e isso justamente quando a cabeca dosbebes se tornava cada vez maior. A morte durante o parto se tornou uma grandepreocupacao para as femeas humanas. As mulheres que davam a luz mais cedo,quando o cerebro e a cabeca do bebe ainda eram relativamente pequenos emaleaveis, se saiam melhor e sobreviviam para ter mais filhos. Emconsequencia, a selecao natural favoreceu nascimentos precoces. E, de fato, emcomparacao com outros animais, os humanos nascem prematuramente, quandomuitos de seus sistemas vitais ainda estao subdesenvolvidos. Um potro pode trotarlogo apos o nascimento; um gatinho deixa a mae para buscar alimento por contapropria com poucas semanas de vida. Os bebes humanos sao indefesos e durantemuitos anos dependem dos mais velhos para sustento, protecao e educacao.\n",
    "Esse fato contribuiu enormemente para as extraordinarias habilidadessociais da humanidade e, ao mesmo tempo, para seus peculiares problemassociais. Maes solitarias dificilmente conseguiam obter comida suficiente para suaprole e para si mesmas tendo criancas necessitadas sob seus cuidados. Criarfilhos requeria ajuda constante de outros membros da familia e de vizinhos. Enecessaria uma tribo para criar um ser humano. A evolucao, assim, favoreceuaqueles capazes de formar fortes lacos sociais. Alem disso, como os humanosnascem subdesenvolvidos, eles podem ser educados e socializados em medidamuito maior do que qualquer outro animal. A maioria dos mamiferos sai do uterocomo ceramica vidrada saindo de um forno – qualquer tentativa de molda-losnovamente apenas ira racha-los ou quebra-los. Os humanos saem do utero comovidro derretido saindo de uma fornalha. Podem ser retorcidos, esticados emoldados com surpreendente liberdade. E por isso que hoje podemos educarnossos filhos para serem cristaos ou budistas, capitalistas ou socialistas, belicososou pacifistas.\n",
    "Presumimos que um cerebro grande, o uso de ferramentas, uma capacidadesuperior de aprender e estruturas sociais complexas sao vantagens enormes.\n",
    "Parece obvio que esses atributos tornaram a humanidade o animal mais poderosoda Terra. Mas os humanos desfrutaram de todas essas vantagens por 2 milhoes deanos, durante os quais continuaram sendo criaturas fracas e marginais. Assim,humanos que viveram ha 1 milhao de anos, apesar de seus cerebros grandes eferramentas de pedra afiadas, viviam com medo constante de predadores,raramente cacavam animais grandes e subsistiam principalmente coletandoplantas, pegando insetos, capturando animais pequenos e comendo a carnicadeixada por outros carnivoros mais fortes.\n",
    "Um dos usos mais comuns das primeiras ferramentas de pedra foi abrirossos para chegar ate o tutano. Alguns pesquisadores acreditam que esse foinosso nicho original. Assim como os pica-paus se especializam em extrair insetosdos troncos das arvores, os primeiros humanos se especializaram em extrair otutano dos ossos. Por que o tutano? Bem, suponhamos que voce esteja observandoum bando de leoes abater e devorar uma girafa. Voce espera pacientemente ateeles terminarem. Mas ainda nao e a sua vez, porque primeiro as hienas e oschacais – e voce nao ousa se meter com eles – reviram as sobras. So entao vocee seu bando ousam se aproximar da carcaca, olhando com cuidado a sua volta, eexplorar o unico tecido comestivel que restou.\n",
    "Isso e essencial para entender nossa historia e nossa psicologia. A posicaodo genero Homo na cadeia alimentar era, ate muito pouco tempo atras,solidamente intermediaria. Durante milhoes de anos, os humanos cacaramcriaturas menores e coletaram o que podiam, ao passo que eram cacados porpredadores maiores. Somente ha 400 mil anos que varias especies de homemcomecaram a cacar animais grandes de maneira regular, e so nos ultimos 100mil anos – com a ascensao do Homo sapiens – esse homem saltou para o topo dacadeia alimentar.\n",
    "Esse salto espetacular do meio para o topo teve enormes consequencias.\n",
    "Outros animais no topo da piramide, como os leoes e os tubaroes, evoluiram paraessa posicao gradualmente, ao longo de milhoes de anos. Isso permitiu que oecossistema desenvolvesse formas de compensacao e equilibrio que impediamque leoes e tubaroes causassem destruicao em excesso. A medida que os leoes setornavam mais ferozes, a evolucao fez as gazelas correrem mais rapido, ashienas cooperarem melhor, e os rinocerontes serem mais mal-humorados.\n",
    "Diferentemente, a humanidade ascendeu ao topo tao rapidamente que oecossistema nao teve tempo de se ajustar. Alem disso, os proprios humanos naoconseguiram se ajustar. A maior parte dos grandes predadores do planeta saocriaturas grandiosas. Milhoes de anos de supremacia os encheram de confiancaem si mesmos. O sapiens, diferentemente, esta mais para um ditador de umarepublica de bananas. Tendo sido ate tao pouco tempo atras um dos oprimidos dassavanas, somos tomados por medos e ansiedades quanto a nossa posicao, o quenos torna duplamente crueis e perigosos. Muitas calamidades historicas, deguerras mortais a catastrofes ecologicas, resultaram desse salto apressado.\n",
    "Uma raca de cozinheirosUm passo importante rumo ao topo foi a domesticacao do fogo. Ja ha 800 milanos, algumas especies humanas faziam uso esporadico do fogo. Por volta de 300mil anos atras, os Homo erectus, os neandertais e os antepassados do Homosapiens usavam o fogo diariamente. Os humanos agora tinham uma fonteconfiavel de luz e de calor e uma arma letal contra os leoes a espreita. Nao muitotempo depois, os humanos podem ate mesmo ter comecado a deliberadamente afazer queimadas em suas areas. Um fogo cuidadosamente manejado podiatransformar bosques cerrados intransponiveis em campos cheios de animais decaca. Alem disso, quando o fogo se apagava, os empreendedores da Idade daPedra podiam caminhar pelos restos fumegantes e coletar animais, nozes etuberculos carbonizados. Mas a melhor coisa que o fogo possibilitou foi o habitode cozinhar.\n",
    "Alimentos que os humanos nao conseguem digerir em sua forma natural –como trigo, arroz e batata – se tornaram itens essenciais da nossa dieta gracas aocozimento. O fogo nao so mudava a quimica dos alimentos; mudava tambem suabiologia. Cozinhar matava germes e parasitas que infestavam os alimentos.\n",
    "Tambem passou a ser muito mais facil para os humanos mastigar e digerir seusalimentos favoritos, como frutas, nozes, insetos e carnica, se cozidos. Enquanto oschimpanzes passam cinco horas por dia mastigando alimentos crus, uma hora esuficiente para as pessoas comerem alimentos cozidos.\n",
    "O advento do habito de cozinhar possibilitou aos humanos comer mais tiposde comida, dedicar menos tempo a alimentacao e se virar com dentes menores eintestino mais curto. Alguns estudiosos acreditam que existe uma relacao diretaentre o advento do habito de cozinhar, o encurtamento do trato intestinal e ocrescimento do cerebro humano. Considerando que tanto um intestino longoquanto um cerebro grande consomem muita energia, e dificil ter os dois aomesmo tempo. Ao encurtar o intestino e reduzir seu consumo de energia, o habitode cozinhar inadvertidamente abriu caminho para o cerebro enorme dosneandertais e dos sapiens.1O fogo tambem abriu a primeira brecha significativa entre o homem e osoutros animais. O poder de quase todos os animais depende de seu corpo: a forcade seus musculos, o tamanho de seus dentes, a envergadura de suas asas. Emborapossam fazer uso de ventos e correntes, sao incapazes de controlar essas forcasda natureza e estao sempre limitados por sua estrutura fisica. As aguias, porexemplo, identificam colunas termicas emanando do solo, abrem suas asasgigantes e permitem que o ar quente as faca alcar voo, mas nao podem controlara localizacao das colunas termicas, e sua capacidade maxima de carga eestritamente proporcional a envergadura de suas asas.\n",
    "Ao domesticar o fogo, os humanos ganharam controle de uma forcaobediente e potencialmente ilimitada. Ao contrario das aguias, os humanospodiam escolher onde e quando acender uma chama, e foram capazes deexplorar o fogo para inumeras tarefas. O que e mais importante, o poder do fogonao era limitado pela forma, estrutura ou forca do corpo humano. Uma unicamulher com uma pedra ou vareta podia produzir fogo para queimar uma florestainteira em uma questao de horas. A domesticacao do fogo foi um sinal do queestava por vir.\n",
    "Mapa 1. O Homo sapiens conquista o globo.\n",
    "Os cuidadores de nossos irmaosApesar dos beneficios do fogo, ha 150 mil anos os humanos ainda eram criaturasmarginais. Agora eles podiam espantar leoes, se aquecer durante noites frias equeimar uma ou outra floresta. Mas, considerando todas as especies juntas,possivelmente o numero de humanos vivendo entre o arquipelago indonesio e aPeninsula Iberica ainda nao passava de 1 milhao, um mero ponto no radarecologico.\n",
    "Nossa especie, Homo sapiens, ja estava presente no palco do mundo, mas,ate entao, estivera apenas vivendo sua vidinha num canto da Africa. Naosabemos exatamente onde ou quando animais que podem ser classificados comoHomo sapiens evoluiram pela primeira vez a partir algum tipo anterior dehumano, mas a maioria dos cientistas concorda que ha 150 mil anos a AfricaOriental estava povoada por sapiens que se pareciam exatamente como nos. Seum deles aparecesse em um necroterio moderno, o patologista local nao notarianada peculiar. Gracas as bencaos do fogo, eles tinham mandibulas e dentesmenores que seus ancestrais, ao passo que tinham cerebros enormes, iguais aosnossos em tamanho.\n",
    "Os cientistas tambem concordam que ha cerca de 70 mil anos, sapiens daAfrica Oriental se espalharam na peninsula Arabica e de la rapidamentetomaram o territorio da Eurasia.\n",
    "Quando o Homo sapiens chegou a Arabia, a maior parte da Eurasia ja eraocupada por outros humanos. O que aconteceu com eles? Ha duas teoriasconflitantes. A “teoria da miscigenacao” conta uma historia de atracao, sexo emiscigenacao. A medida que os imigrantes africanos se espalharam pelo mundo,eles procriaram com outras populacoes humanas, e as pessoas, hoje, saoresultado dessa miscigenacao.\n",
    "Por exemplo, quando os sapiens chegaram ao Oriente Medio e a Europa,encontraram os neandertais. Esses humanos eram mais musculosos que ossapiens, tinham cerebro maior e eram mais bem adaptados a climas frios.\n",
    "Usavam ferramentas e fogo, eram cacadores eximios e, ao que parece,cuidavam dos doentes e debilitados (arqueologos encontraram ossos deneandertais que viveram por muitos anos com varias deficiencias fisicas, indiciosde que eram cuidados por seus parentes). Os neandertais muitas vezes saoretratados em caricaturas como o arquetipico “homem das cavernas” bruto eestupido, mas indicios recentes mudaram essa imagem.\n",
    "3. Reconstrucao especulativa de uma crianca neandertal. As evidenciasgeneticas indicam que pelo menos alguns neandertais podem ter tido pele ecabelo claros.\n",
    "De acordo com a teoria da miscigenacao, quando o Homo sapiens seespalhou por terras neandertais, os sapiens procriaram com neandertais ate queas duas populacoes se fundiram. Se isso for verdade, entao os eurasianos de hojenao sao sapiens puros. Sao uma mistura de sapiens e neandertais. De formasemelhante, quando chegaram a Asia Oriental, os sapiens se misturaram com oslocais Homo erectus, de forma que os chineses e coreanos sao uma mistura desapiens e Homo erectus.\n",
    "Nossa especie, Homo sapiens, ja estava presente no palco do mundo, mas,ate entao, estivera apenas vivendo sua vidinha num canto da Africa. Naosabemos exatamente onde ou quando animais que podem ser classificados comoHomo sapiens evoluiram pela primeira vez a partir algum tipo anterior dehumano, mas a maioria dos cientistas concorda que ha 150 mil anos a AfricaOriental estava povoada por sapiens que se pareciam exatamente como nos. Seum deles aparecesse em um necroterio moderno, o patologista local nao notarianada peculiar. Gracas as bencaos do fogo, eles tinham mandibulas e dentesmenores que seus ancestrais, ao passo que tinham cerebros enormes, iguais aosnossos em tamanho.\n",
    "A visao oposta, chamada de “teoria da substituicao”, conta uma historiamuito diferente – uma historia de incompatibilidade, repulsa e, talvez, ate mesmogenocidio. Sapiens e neandertais tinham anatomias diferentes, e muitoprovavelmente habitos de acasalamento e ate mesmo odor corporal diferentes.\n",
    "Provavelmente tinham pouco interesse sexual uns pelos outros. Mesmo que umRomeu neandertal e uma Julieta sapiens se apaixonassem, nao poderiam produzirdescendentes ferteis porque o abismo genetico separando as duas populacoes jaera intransponivel. As duas populacoes teriam permanecido distintas, e quando osneandertais morreram, ou foram mortos, seus genes teriam morrido com eles.\n",
    "De acordo com essa teoria, sapiens substituiram todas as populacoes humanasanteriores sem se misturar com nenhuma delas. Nesse caso, a origem de todas aslinhagens humanas existentes pode ser atribuida exclusivamente a AfricaOriental de 70 mil anos atras.\n",
    "Muita coisa depende desse debate. De uma perspectiva evolutiva, 70 milanos e um intervalo relativamente curto. Se a teoria da substituicao estivercorreta, todos os humanos existentes tem mais ou menos a mesma bagagemgenetica, e as distincoes raciais entre eles sao despreziveis. Mas se a teoria damiscigenacao estiver correta, pode muito bem haver entre africanos, europeus easiaticos diferencas geneticas que remontam a centenas de milhares de anosatras. Trata-se de uma dinamite politica que poderia fornecer materia-primapara teorias raciais explosivas.\n",
    "Nas ultimas decadas, a teoria da substituicao prevaleceu entre os cientistas.\n",
    "Tinha bases arqueologicas mais solidas e era politicamente mais correta (oscientistas nao tinham desejo algum de abrir a caixa de Pandora do racismo aoafirmar a existencia de uma diversidade genetica significativa entre aspopulacoes humanas modernas). Mas isso terminou em 2010, quando forampublicados os resultados de um esforco de quatro anos para mapear o genomados neandertais. Geneticistas conseguiram coletar DNA intacto de fosseis deneandertais em quantidade suficiente para fazer uma comparacao detalhadacom o DNA de humanos contemporaneos Os resultados desconcertaram acomunidade cientifica.\n",
    "Os cientistas tambem concordam que ha cerca de 70 mil anos, sapiens daAfrica Oriental se espalharam na peninsula Arabica e de la rapidamentetomaram o territorio da Eurasia.\n",
    "Revelou-se que de 1% a 4% do DNA das populacoes modernas no OrienteMedio e na Europa sao DNA de neandertal. Nao e uma grande quantidade, mas esignificante. Um segundo choque veio meses depois, quando foi mapeado o DNAextraido do dedo fossilizado de Denisova. Os resultados comprovaram que ate6% do DNA humano dos melanesios e dos aborigenes australianos modernos saoDNA denisovano!Se esses resultados forem validos – e e importante ter em mente que estaosendo realizadas mais pesquisas que podem tanto corroborar quanto modificaressas conclusoes –, os defensores da teoria da miscigenacao acertaram em pelomenos alguns aspectos. Mas isso nao significa que a teoria da substituicao estejacompletamente errada. Uma vez que os neandertais e os denisovanoscontribuiram apenas com uma pequena proporcao de DNA para nosso genomaatual, e impossivel falar de uma “fusao” entre os sapiens e outras especieshumanas. Embora as diferencas entre elas nao fossem grandes o suficiente paraevitar completamente a geracao de descendentes ferteis, eram suficientes parafazer que tais contatos fossem muito raros.\n",
    "Sendo assim, como devemos entender as relacoes biologicas entre sapiens,neandertais e denisovanos? Claramente, nao eram especies completamentedistintas, como sao os cavalos e os jumentos. Por outro lado, nao eram apenaspopulacoes diferentes da mesma especie, como os buldogues e os spaniels. Arealidade biologica nao e em preto e branco. Ha tambem areas cinzaimportantes. Quaisquer duas especies que tenham evoluido de um unicoancestral, como os cavalos e os jumentos, foram, em algum momento, apenasduas populacoes da mesma especie, como os buldogues e os spaniels. Com otempo, as diferencas entre elas se acumularam, ate que elas seguiram caminhosevolutivos separados. Deve ter havido um ponto em que as duas populacoes jaeram bem diferentes uma da outra, mas ainda capazes, em raras ocasioes, de terrelacoes sexuais e gerar descendentes ferteis. Entao houve mutacao em mais umou dois genes, e esse ultimo fio que as conectava se perdeu para sempre.\n",
    "Os cientistas tambem concordam que ha cerca de 70 mil anos, sapiens daAfrica Oriental se espalharam na peninsula Arabica e de la rapidamentetomaram o territorio da Eurasia.\n",
    "Ao que parece, ha cerca de 50 mil anos, sapiens, neandertais e denisovanosse encontravam nesse limite. Eram especies quase separadas, mas naototalmente. Como veremos no proximo capitulo, os sapiens ja eram bemdiferentes dos neandertais e dos denisovanos nao so em seu codigo genetico e emseus tracos fisicos, como tambem sua capacidade cognitiva e habilidades sociais.\n",
    "Mas ainda era igualmente possivel, em raras ocasioes, que um sapiens e umneandertal tivessem um filho. Portanto, as populacoes nao se fundiram – masalguns genes sortudos de neandertais pegaram uma carona no Expresso Sapiens.\n",
    "E um tanto perturbador – e, talvez, fascinante – pensar que nos, sapiens,possamos em algum momento ter tido relacoes sexuais com um animal de umaespecie diferente e gerado descendentes.\n",
    "Mas se neandertais, denisovanos e outras especies humanas naosimplesmente se miscigenaram com os sapiens, por que desapareceram? Umapossibilidade e que o Homo sapiens as levou a extincao. Imagine um bando desapiens chegando a um vale nos Balcas onde os neandertais viviam ha centenasde milhares de anos. Os recem-chegados comecaram a cacar os cervos e acolher as nozes e as bagas que eram tradicionalmente a base alimentar dosneandertais. Os sapiens eram melhores cacadores e coletores – gracas asuperioridade de sua tecnologia e de suas habilidades sociais –, de modo que semultiplicaram e se espalharam. Os neandertais, menos engenhosos, tinham cadavez mais dificuldade para se alimentar. Sua populacao definhou e pouco a poucodesapareceu, exceto, talvez, por um ou dois membros que se uniram a seusvizinhos sapiens.\n",
    "Outra possibilidade e que a competicao por recursos tenha irrompido emviolencia e genocidio. A tolerancia nao e uma marca registrada dos sapiens. Nostempos modernos, uma pequena diferenca em cor de pele, dialeto ou religiaotem sido suficiente para levar um grupo de sapiens a tentar exterminar outrogrupo. Os sapiens antigos teriam sido mais tolerantes para com uma especiehumana totalmente diferente? E bem possivel que, quando os sapiensencontraram os neandertais, o resultado tenha sido a primeira e mais significativacampanha de limpeza etnica na historia.\n",
    "O que quer que tenha acontecido, os neandertais (e outras especieshumanas) apresentam um dos grandes “e ses” da historia. Imagine o que poderiater acontecido se os neandertais ou denisovanos tivessem sobrevivido ao lado doHomo sapiens. Que tipos de cultura, sociedade e estrutura politica teriam surgidoem um mundo em que varias especies humanas diferentes coexistissem? Como,por exemplo, as fes religiosas teriam se desenvolvido? O livro do Genesis teriadeclarado que os neandertais descenderam de Adao e Eva, Jesus teria morridopelos pecados dos denisovanos, e o Corao teria reservado lugares no Paraiso paratodos os humanos corretos, independentemente da especie? Os neandertaisteriam recebido um lugar no sistema de castas hindu, ou na vasta burocracia daChina imperial? A Declaracao da Independencia dos Estados Unidos teriaconsiderado como uma verdade evidente que todos os membros do genero Homoforam criados iguais? Karl Marx teria instado os trabalhadores de todas asespecies a se unirem?Nos ultimos 10 mil anos, o Homo sapiens esteve tao acostumado a ser aunica especie humana que e dificil para nos concebermos qualquer outrapossibilidade. A ausencia de irmaos ou irmas torna facil imaginar que somos oepitome da criacao e que um cisma nos separa do resto do reino animal. QuandoCharles Darwin sugeriu que o Homo sapiens era apenas mais uma especieanimal, as pessoas ficaram furiosas. Ainda hoje, muitos se recusam a acreditarnisso. Se os neandertais tivessem sobrevivido, ainda conceberiamos a nosmesmos como uma criatura distinta? Talvez tenha sido exatamente por isso quenossos ancestrais eliminaram os neandertais. Eles eram similares demais para seignorar, mas diferentes demais para se tolerar.\n",
    "\"\"\""
   ]
  },
  {
   "cell_type": "code",
   "execution_count": 66,
   "metadata": {},
   "outputs": [
    {
     "name": "stdout",
     "output_type": "stream",
     "text": [
      "Tokens Necessários: 8016\n"
     ]
    }
   ],
   "source": [
    "# Estimativa do uso de Tokens\n",
    "required_tokens = estimate_tokens(texto)\n",
    "print(\"Tokens Necessários: \" + str(required_tokens))"
   ]
  },
  {
   "cell_type": "markdown",
   "metadata": {},
   "source": [
    "> 📝 Geralmente, as APIs disponibilizadas por esses modelos acabam precificando pela quantidade de tokens utilizados. Desse modo, quanto maior a quantidade de tokens, maior o custo. Além disso, textos longos exigem mais tempo de processamento, o que reduz a velocidade de resposta. LLMs também possuem limites máximos de tokens, e ultrapassá-los pode resultar em falhas na resposta ou exigir algum pré-processamento adicional.\n"
   ]
  },
  {
   "cell_type": "markdown",
   "metadata": {},
   "source": [
    "---\n",
    "\n",
    "### Exercício 10: Otimização de Respostas com Role Prompting\n",
    "\n",
    "No Poe.com, aplique a técnica de Role Prompting para otimizar as respostas do LLM Claude3.5. O cenário é o seguinte: você está desenvolvendo um assistente virtual para uma empresa de consultoria jurídica. Crie um prompt onde o modelo deve assumir o papel de um advogado especializado em direito contábil ao responder perguntas sobre Imposto de Renda de Pessoa Física. Avalie a resposta do modelo para uma mesma pergunta sobre IRPF num prompt com e sem Role Prompting.\n"
   ]
  },
  {
   "cell_type": "markdown",
   "metadata": {},
   "source": [
    "**Prompt sem Role Prompting**\n",
    "\n",
    "Como devo informar os pagamentos de plano de saúde no meu imposto de renda?\n"
   ]
  },
  {
   "cell_type": "markdown",
   "metadata": {},
   "source": [
    "![Exec 10 - Sem role prompting](./images/exec-10-no-role.png)\n"
   ]
  },
  {
   "cell_type": "markdown",
   "metadata": {},
   "source": [
    "**Prompt com Role Prompting**\n",
    "\n",
    "Você é um advogado especializado em direito contábil e ajuda pessoas com dúvidas sobre o Imposto de Renda de Pessoa Física (IRPF). Sua função é explicar os processos de maneira simples, objetiva e positiva, fornecendo um passo a passo claro para resolver problemas.\n",
    "\n",
    "Sempre que alguém tiver uma dúvida sobre o IRPF, você deve explicar de forma clara e simples, utilizando vocabulário acessível. Mantenha uma abordagem amigável e focada na solução, detalhando os procedimentos necessários para a pessoa seguir.\n",
    "\n",
    "Com base nisso, responda a seguinte questão:\n",
    "\n",
    "Como devo informar os pagamentos de plano de saúde no meu imposto de renda?\n"
   ]
  },
  {
   "cell_type": "markdown",
   "metadata": {},
   "source": [
    "![Exec 10 - Com role prompting](./images/exec-10-with-role.png)\n"
   ]
  },
  {
   "cell_type": "markdown",
   "metadata": {},
   "source": [
    "> 📝 O prompt utilizando role prompting foi bem específico e incluiu um passo a passo detalhado de como realizar as ações no programa da Receita Federal, enquanto o prompt simples respondeu à questão, mas não explicou muito bem como realizar esses procedimentos.\n"
   ]
  },
  {
   "cell_type": "markdown",
   "metadata": {},
   "source": [
    "---\n",
    "\n",
    "### Exercício 11: Exercício 11 Estruturação de Prompts com Arquivo YAML\n",
    "\n",
    "Crie um arquivo YAML que represente a estrutura:\n",
    "\n",
    "{‘'roteiro’: {‘atenas’: ‘prompt’, ‘roma’: ‘prompt’}},\n",
    "\n",
    "onde você deve definir dois prompts: um para listar 3 pontos turísticos de Roma, o número anual de visitantes e uma breve descrição de cada um, e outro para fazer o mesmo com Atenas. Em seguida, crie um notebook que leia esse arquivo YAML e execute os prompts usando o Gemini (uma execução por cidade no roteiro). Qual foi o resultado? Os pontos turísticos são relevantes e suas descrições são precisas?\n"
   ]
  },
  {
   "cell_type": "markdown",
   "metadata": {},
   "source": [
    "**Print do arquivo yaml**\n",
    "\n",
    "![Exec 11 - Arquivo YAML](./images/exec-11-yaml-print.png)"
   ]
  },
  {
   "cell_type": "code",
   "execution_count": 71,
   "metadata": {},
   "outputs": [
    {
     "data": {
      "text/plain": [
       "{'roteiro': {'atenas': 'Liste 3 pontos turísticos de Atenas, o número anual de visitantes e uma breve descrição de cada ponto.',\n",
       "  'roma': 'Liste 3 pontos turísticos de Roma, o número anual de visitantes e uma breve descrição de cada ponto.'}}"
      ]
     },
     "execution_count": 71,
     "metadata": {},
     "output_type": "execute_result"
    }
   ],
   "source": [
    "import yaml\n",
    "\n",
    "# Carrega o arquivo yaml\n",
    "with open(\"../data/roteiro-exec-11.yaml\", encoding=\"utf8\") as stream:\n",
    "    try:\n",
    "        config = yaml.safe_load(stream)\n",
    "    except yaml.YAMLError as e:\n",
    "        print(e)\n",
    "\n",
    "config"
   ]
  },
  {
   "cell_type": "code",
   "execution_count": null,
   "metadata": {},
   "outputs": [],
   "source": [
    "import google.generativeai as genai\n",
    "import os\n",
    "\n",
    "genai.configure(api_key=os.environ[\"GEMINI_API_KEY\"])\n",
    "model = genai.GenerativeModel(\"gemini-1.5-flash\")\n",
    "\n",
    "roteiros_json = []\n",
    "\n",
    "# Executa o prompt do YAML\n",
    "for cidade in config[\"roteiro\"]:\n",
    "    response = model.generate_content(config[\"roteiro\"][cidade])\n",
    "    roteiros_json.append(response.text)"
   ]
  },
  {
   "cell_type": "code",
   "execution_count": null,
   "metadata": {},
   "outputs": [
    {
     "data": {
      "text/markdown": [
       "Aqui estão 3 pontos turísticos populares em Atenas, o número anual de visitantes e uma breve descrição de cada um:\n",
       "\n",
       "1. **Acrópole:**\n",
       "    * **Número anual de visitantes:** Aproximadamente 3 milhões\n",
       "    * **Descrição:** Uma antiga cidadela fortificada com vistas panorâmicas de Atenas. É lar de alguns dos monumentos mais icônicos da Grécia, incluindo o Partenon, o Erecteion e o Templo de Atena Nike. É um sítio arqueológico que testemunha a grandeza da civilização grega antiga.\n",
       "\n",
       "2. **Fórum Romano:**\n",
       "    * **Número anual de visitantes:** Cerca de 1,5 milhões\n",
       "    * **Descrição:** Um antigo fórum romano localizado no centro de Atenas, que data do século 2 d.C. Foi um centro de comércio e vida social na época romana e abriga ruínas de templos, bibliotecas e outras estruturas públicas. Hoje, é um sítio arqueológico popular para aprender sobre a história romana da Grécia.\n",
       "\n",
       "3. **Museu da Acrópole:**\n",
       "    * **Número anual de visitantes:** Mais de 1 milhão\n",
       "    * **Descrição:** Um museu que abriga artefatos encontrados na Acrópole, incluindo esculturas, cerâmica e outros artefatos da era clássica. É um ótimo lugar para obter uma compreensão mais profunda da história e cultura da Acrópole. As famosas esculturas de mármore do Partenon são exibidas neste museu.\n"
      ],
      "text/plain": [
       "<IPython.core.display.Markdown object>"
      ]
     },
     "metadata": {},
     "output_type": "display_data"
    },
    {
     "data": {
      "text/markdown": [
       "## Três Pontos Turísticos de Roma:\n",
       "\n",
       "1. **Coliseu:**\n",
       "   * **Visitantes Anuais:** 7.5 milhões (aproximadamente)\n",
       "   * **Descrição:** Um anfiteatro romano colossal, construído no século I d.C., que já sediou combates de gladiadores, execuções e espetáculos públicos. Hoje, é um dos monumentos históricos mais famosos do mundo, oferecendo uma visão fascinante da vida na Roma Antiga.\n",
       "\n",
       "2. **Fórum Romano e Palatino:**\n",
       "   * **Visitantes Anuais:** 4.5 milhões (aproximadamente)\n",
       "   * **Descrição:** Um complexo de ruínas romanas que abrange o Fórum Romano, um antigo centro político e comercial, e o Monte Palatino, a colina onde a lenda diz que Roma foi fundada. A área oferece um olhar único sobre a arquitetura e a vida romana, com templos, basílicas e casas romanas preservadas.\n",
       "\n",
       "3. **Museus do Vaticano:**\n",
       "   * **Visitantes Anuais:** 6 milhões (aproximadamente)\n",
       "   * **Descrição:** Um complexo de museus que abriga obras de arte e artefatos da Igreja Católica, incluindo a Capela Sistina, com afrescos de Michelangelo, e a Galeria de Pinturas, com obras de Rafael e outros mestres renascentistas. Os museus oferecem uma viagem fascinante pela história da arte e da religião. \n"
      ],
      "text/plain": [
       "<IPython.core.display.Markdown object>"
      ]
     },
     "metadata": {},
     "output_type": "display_data"
    }
   ],
   "source": [
    "from IPython.display import display, Markdown\n",
    "\n",
    "# Exibe os roteiros gerados\n",
    "for roteiro in roteiros_json:\n",
    "    display(Markdown(roteiro))"
   ]
  },
  {
   "cell_type": "markdown",
   "metadata": {},
   "source": [
    "> 📝 Após uma busca rápida no google, me parece que as informações são relevantes e precisas. Achei interessante o fato de o formato retornado ser praticamente o mesmo nos dois exemplos, mesmo sem ter especificado nenhuma formatação específica no prompt.\n"
   ]
  },
  {
   "cell_type": "markdown",
   "metadata": {},
   "source": [
    "---\n",
    "\n",
    "### Exercício 12: Sistema de Envio de Emails com Dados Turísticos em JSON\n",
    "\n",
    "Queremos montar um sistema que envie emails com os pontos turísticos de cidades num roteiro de viagem. Com base no Exercício 11, altere o prompt para estruturar a saída em formato JSON, com descrições e número de visitantes. Crie um notebook que use a biblioteca pandas para converter esse JSON para dataframe e plot um único gráfico de barras horizontais com todos os pontos turísticos, destacando as cores das barras de acordo com a cidade do ponto turístico (Coliseu, em Roma deve ter uma cor diferente que Parthenon, em Atenas). Coloque as legendas no gráfico.\n"
   ]
  },
  {
   "cell_type": "markdown",
   "metadata": {},
   "source": [
    "**Print do arquivo yaml**\n",
    "\n",
    "![Exec 12 - Arquivo YAML](./images/exec-12-yaml-print.png)"
   ]
  },
  {
   "cell_type": "code",
   "execution_count": 82,
   "metadata": {},
   "outputs": [
    {
     "data": {
      "text/plain": [
       "{'roteiro': {'atenas': \"Liste 3 pontos turísticos de Atenas, o número anual de visitantes e uma breve descrição de cada ponto.\\nO formato retornado deve ser um arquivo JSON válido, seguindo esse exemplo:\\n[\\n  {\\n    cidade: 'Atenas',\\n    local: 'Acrópole de Atenas',\\n    visitantes: 3000000,\\n    descricao: 'A Acrópole de Atenas é uma antiga cidadela localizada sobre uma colina rochosa a 150 metros de altura.'\\n  },\\n  {\\n    cidade: 'Atenas',\\n    local: 'Ágora de Atenas',\\n    visitantes: 2000000,\\n    descricao: 'A Ágora de Atenas é um dos mais famosos locais arqueológicos da Grécia.'\\n  },\\n  {\\n    cidade: 'Atenas',\\n    local: 'Templo de Zeus Olímpico',\\n    visitantes: 1500000,\\n    descricao: 'O Templo de Zeus Olímpico é um antigo templo dedicado a Zeus, localizado no centro de Atenas.'\\n  }\\n]\\n\",\n",
       "  'roma': \"Liste 3 pontos turísticos de Roma, o número anual de visitantes e uma breve descrição de cada ponto.\\nO formato retornado deve ser um arquivo JSON válido, seguindo esse exemplo:\\n[\\n  {\\n    cidade: 'Roma',\\n    local: 'Coliseu',\\n    visitantes: 7000000,\\n    descricao: 'O Coliseu é um anfiteatro de forma elíptica no centro da cidade de Roma, Itália.'\\n  },\\n  {\\n    cidade: 'Roma',\\n    local: 'Fórum Romano',\\n    visitantes: 5000000,\\n    descricao: 'O Fórum Romano é uma praça retangular no centro de Roma, Itália.'\\n  },\\n  {\\n    cidade: 'Roma',\\n    local: 'Panteão de Roma',\\n    visitantes: 4000000,\\n    descricao: 'O Panteão de Roma é um templo romano dedicado a todos os deuses do panteão romano.'\\n  }\\n]\\n\"}}"
      ]
     },
     "execution_count": 82,
     "metadata": {},
     "output_type": "execute_result"
    }
   ],
   "source": [
    "import yaml\n",
    "\n",
    "# Carrega o arquivo yaml\n",
    "with open(\"../data/roteiro-exec-12.yaml\", encoding=\"utf8\") as stream:\n",
    "    try:\n",
    "        config = yaml.safe_load(stream)\n",
    "    except yaml.YAMLError as e:\n",
    "        print(e)\n",
    "\n",
    "config"
   ]
  },
  {
   "cell_type": "code",
   "execution_count": null,
   "metadata": {},
   "outputs": [],
   "source": [
    "import google.generativeai as genai\n",
    "import os\n",
    "import json\n",
    "import pandas as pd\n",
    "\n",
    "genai.configure(api_key=os.environ[\"GEMINI_API_KEY\"])\n",
    "model = genai.GenerativeModel(\"gemini-1.5-flash\")\n",
    "\n",
    "roteiros_json = []\n",
    "\n",
    "# Executa o prompt do YAML\n",
    "for cidade in config[\"roteiro\"]:\n",
    "    response = model.generate_content(config[\"roteiro\"][cidade])\n",
    "    roteiros_json.append(\n",
    "        json.loads(response.text.replace(\"```json\", \"\").replace(\"```\", \"\"))\n",
    "    )"
   ]
  },
  {
   "cell_type": "code",
   "execution_count": null,
   "metadata": {},
   "outputs": [
    {
     "data": {
      "text/html": [
       "<div>\n",
       "<style scoped>\n",
       "    .dataframe tbody tr th:only-of-type {\n",
       "        vertical-align: middle;\n",
       "    }\n",
       "\n",
       "    .dataframe tbody tr th {\n",
       "        vertical-align: top;\n",
       "    }\n",
       "\n",
       "    .dataframe thead th {\n",
       "        text-align: right;\n",
       "    }\n",
       "</style>\n",
       "<table border=\"1\" class=\"dataframe\">\n",
       "  <thead>\n",
       "    <tr style=\"text-align: right;\">\n",
       "      <th></th>\n",
       "      <th>cidade</th>\n",
       "      <th>local</th>\n",
       "      <th>visitantes</th>\n",
       "      <th>descricao</th>\n",
       "    </tr>\n",
       "  </thead>\n",
       "  <tbody>\n",
       "    <tr>\n",
       "      <th>0</th>\n",
       "      <td>Atenas</td>\n",
       "      <td>Acrópole de Atenas</td>\n",
       "      <td>7000000</td>\n",
       "      <td>A Acrópole de Atenas é uma antiga cidadela loc...</td>\n",
       "    </tr>\n",
       "    <tr>\n",
       "      <th>1</th>\n",
       "      <td>Atenas</td>\n",
       "      <td>Ágora de Atenas</td>\n",
       "      <td>2000000</td>\n",
       "      <td>A Ágora de Atenas era o centro cívico e comerc...</td>\n",
       "    </tr>\n",
       "    <tr>\n",
       "      <th>2</th>\n",
       "      <td>Atenas</td>\n",
       "      <td>Museu da Acrópole</td>\n",
       "      <td>1500000</td>\n",
       "      <td>O Museu da Acrópole é um museu que abriga arte...</td>\n",
       "    </tr>\n",
       "    <tr>\n",
       "      <th>3</th>\n",
       "      <td>Roma</td>\n",
       "      <td>Coliseu</td>\n",
       "      <td>7000000</td>\n",
       "      <td>O Coliseu é um anfiteatro de forma elíptica no...</td>\n",
       "    </tr>\n",
       "    <tr>\n",
       "      <th>4</th>\n",
       "      <td>Roma</td>\n",
       "      <td>Fórum Romano</td>\n",
       "      <td>5000000</td>\n",
       "      <td>O Fórum Romano é uma praça retangular no centr...</td>\n",
       "    </tr>\n",
       "    <tr>\n",
       "      <th>5</th>\n",
       "      <td>Roma</td>\n",
       "      <td>Panteão de Roma</td>\n",
       "      <td>4000000</td>\n",
       "      <td>O Panteão de Roma é um templo romano dedicado ...</td>\n",
       "    </tr>\n",
       "  </tbody>\n",
       "</table>\n",
       "</div>"
      ],
      "text/plain": [
       "   cidade               local  visitantes  \\\n",
       "0  Atenas  Acrópole de Atenas     7000000   \n",
       "1  Atenas     Ágora de Atenas     2000000   \n",
       "2  Atenas   Museu da Acrópole     1500000   \n",
       "3    Roma             Coliseu     7000000   \n",
       "4    Roma        Fórum Romano     5000000   \n",
       "5    Roma     Panteão de Roma     4000000   \n",
       "\n",
       "                                           descricao  \n",
       "0  A Acrópole de Atenas é uma antiga cidadela loc...  \n",
       "1  A Ágora de Atenas era o centro cívico e comerc...  \n",
       "2  O Museu da Acrópole é um museu que abriga arte...  \n",
       "3  O Coliseu é um anfiteatro de forma elíptica no...  \n",
       "4  O Fórum Romano é uma praça retangular no centr...  \n",
       "5  O Panteão de Roma é um templo romano dedicado ...  "
      ]
     },
     "execution_count": 114,
     "metadata": {},
     "output_type": "execute_result"
    }
   ],
   "source": [
    "# Merge dos roteiros\n",
    "roteiros = []\n",
    "for roteiro in roteiros_json:\n",
    "    roteiros.extend(roteiro)\n",
    "\n",
    "# Cria o DataFrame\n",
    "roteiros_df = pd.DataFrame(roteiros)\n",
    "roteiros_df"
   ]
  },
  {
   "cell_type": "code",
   "execution_count": null,
   "metadata": {},
   "outputs": [
    {
     "data": {
      "image/png": "[encoded data removed]",
      "text/plain": [
       "<Figure size 1000x500 with 1 Axes>"
      ]
     },
     "metadata": {},
     "output_type": "display_data"
    }
   ],
   "source": [
    "import matplotlib.pyplot as plt\n",
    "from matplotlib.ticker import FuncFormatter\n",
    "\n",
    "# Adiciona uma coluna de cores baseada na cidade\n",
    "color_mapping = {\"Atenas\": \"#8ECDDF\", \"Roma\": \"#EDB71C\"}\n",
    "roteiros_df[\"cor\"] = roteiros_df[\"cidade\"].map(color_mapping)\n",
    "\n",
    "# Plota o gráfico\n",
    "ax = roteiros_df.plot(\n",
    "    kind=\"bar\",\n",
    "    x=\"local\",\n",
    "    y=\"visitantes\",\n",
    "    color=roteiros_df[\"cor\"],\n",
    "    legend=False,\n",
    "    title=\"Roteiros\",\n",
    "    figsize=(10, 5),\n",
    ")\n",
    "\n",
    "# Cria o indicador de cidade\n",
    "handles = [\n",
    "    plt.Line2D([0], [0], marker=\"o\", color=\"w\", markerfacecolor=color, markersize=10)\n",
    "    for color in color_mapping.values()\n",
    "]\n",
    "labels = color_mapping.keys()\n",
    "ax.legend(handles, labels, title=\"Cidade\")\n",
    "\n",
    "# Formata os visitantes em milhares\n",
    "ax.yaxis.set_major_formatter(FuncFormatter(lambda x, _: f\"{int(x / 1000)}k\"))\n",
    "\n",
    "# Adiciona as legendas\n",
    "plt.xlabel(\"Local\")\n",
    "plt.ylabel(\"Visitantes\")\n",
    "plt.show()"
   ]
  }
 ],
 "metadata": {
  "kernelspec": {
   "display_name": "Python 3 (ipykernel)",
   "language": "python",
   "name": "python3"
  },
  "language_info": {
   "codemirror_mode": {
    "name": "ipython",
    "version": 3
   },
   "file_extension": ".py",
   "mimetype": "text/x-python",
   "name": "python",
   "nbconvert_exporter": "python",
   "pygments_lexer": "ipython3",
   "version": "3.12.7"
  }
 },
 "nbformat": 4,
 "nbformat_minor": 4
}
